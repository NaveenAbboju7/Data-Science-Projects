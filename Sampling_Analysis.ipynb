{
  "nbformat": 4,
  "nbformat_minor": 0,
  "metadata": {
    "colab": {
      "provenance": [],
      "toc_visible": true
    },
    "kernelspec": {
      "name": "python3",
      "display_name": "Python 3"
    },
    "language_info": {
      "name": "python"
    }
  },
  "cells": [
    {
      "cell_type": "markdown",
      "source": [
        "# Sampling"
      ],
      "metadata": {
        "id": "I_fAv32go464"
      }
    },
    {
      "cell_type": "markdown",
      "source": [
        "For this assignment, I applied the topics of  undersampling, oversampling and SMOTE to a toy dataset to see if you get better performance by using these sampling methods. In my experience, sampling helps sometimes but not all times."
      ],
      "metadata": {
        "id": "8NEq5H1OpkhO"
      }
    },
    {
      "cell_type": "markdown",
      "source": [
        "![picture](https://th.bing.com/th/id/R.38ed3c8ff436a29c0aa0d11ac2a8c9df?rik=AzMREUs53RgoGw&pid=ImgRaw&r=0)"
      ],
      "metadata": {
        "id": "F5oQT3H1-7lH"
      }
    },
    {
      "cell_type": "code",
      "source": [
        "import pandas as pd\n",
        "df = pd.read_csv('/content/sample_data/california_housing_train.csv')"
      ],
      "metadata": {
        "id": "nJ1bW4MUp61s"
      },
      "execution_count": null,
      "outputs": []
    },
    {
      "cell_type": "code",
      "source": [
        "df.head()"
      ],
      "metadata": {
        "colab": {
          "base_uri": "https://localhost:8080/",
          "height": 206
        },
        "id": "PUeW08-xrxbW",
        "outputId": "f43e9c6a-203f-470e-c5a7-9d5c322c71ec"
      },
      "execution_count": null,
      "outputs": [
        {
          "output_type": "execute_result",
          "data": {
            "text/plain": [
              "   longitude  latitude  housing_median_age  total_rooms  total_bedrooms  \\\n",
              "0    -114.31     34.19                15.0       5612.0          1283.0   \n",
              "1    -114.47     34.40                19.0       7650.0          1901.0   \n",
              "2    -114.56     33.69                17.0        720.0           174.0   \n",
              "3    -114.57     33.64                14.0       1501.0           337.0   \n",
              "4    -114.57     33.57                20.0       1454.0           326.0   \n",
              "\n",
              "   population  households  median_income  median_house_value  \n",
              "0      1015.0       472.0         1.4936             66900.0  \n",
              "1      1129.0       463.0         1.8200             80100.0  \n",
              "2       333.0       117.0         1.6509             85700.0  \n",
              "3       515.0       226.0         3.1917             73400.0  \n",
              "4       624.0       262.0         1.9250             65500.0  "
            ],
            "text/html": [
              "\n",
              "  <div id=\"df-8800a3d7-3a66-4fa6-b6ff-58cad9b6f536\">\n",
              "    <div class=\"colab-df-container\">\n",
              "      <div>\n",
              "<style scoped>\n",
              "    .dataframe tbody tr th:only-of-type {\n",
              "        vertical-align: middle;\n",
              "    }\n",
              "\n",
              "    .dataframe tbody tr th {\n",
              "        vertical-align: top;\n",
              "    }\n",
              "\n",
              "    .dataframe thead th {\n",
              "        text-align: right;\n",
              "    }\n",
              "</style>\n",
              "<table border=\"1\" class=\"dataframe\">\n",
              "  <thead>\n",
              "    <tr style=\"text-align: right;\">\n",
              "      <th></th>\n",
              "      <th>longitude</th>\n",
              "      <th>latitude</th>\n",
              "      <th>housing_median_age</th>\n",
              "      <th>total_rooms</th>\n",
              "      <th>total_bedrooms</th>\n",
              "      <th>population</th>\n",
              "      <th>households</th>\n",
              "      <th>median_income</th>\n",
              "      <th>median_house_value</th>\n",
              "    </tr>\n",
              "  </thead>\n",
              "  <tbody>\n",
              "    <tr>\n",
              "      <th>0</th>\n",
              "      <td>-114.31</td>\n",
              "      <td>34.19</td>\n",
              "      <td>15.0</td>\n",
              "      <td>5612.0</td>\n",
              "      <td>1283.0</td>\n",
              "      <td>1015.0</td>\n",
              "      <td>472.0</td>\n",
              "      <td>1.4936</td>\n",
              "      <td>66900.0</td>\n",
              "    </tr>\n",
              "    <tr>\n",
              "      <th>1</th>\n",
              "      <td>-114.47</td>\n",
              "      <td>34.40</td>\n",
              "      <td>19.0</td>\n",
              "      <td>7650.0</td>\n",
              "      <td>1901.0</td>\n",
              "      <td>1129.0</td>\n",
              "      <td>463.0</td>\n",
              "      <td>1.8200</td>\n",
              "      <td>80100.0</td>\n",
              "    </tr>\n",
              "    <tr>\n",
              "      <th>2</th>\n",
              "      <td>-114.56</td>\n",
              "      <td>33.69</td>\n",
              "      <td>17.0</td>\n",
              "      <td>720.0</td>\n",
              "      <td>174.0</td>\n",
              "      <td>333.0</td>\n",
              "      <td>117.0</td>\n",
              "      <td>1.6509</td>\n",
              "      <td>85700.0</td>\n",
              "    </tr>\n",
              "    <tr>\n",
              "      <th>3</th>\n",
              "      <td>-114.57</td>\n",
              "      <td>33.64</td>\n",
              "      <td>14.0</td>\n",
              "      <td>1501.0</td>\n",
              "      <td>337.0</td>\n",
              "      <td>515.0</td>\n",
              "      <td>226.0</td>\n",
              "      <td>3.1917</td>\n",
              "      <td>73400.0</td>\n",
              "    </tr>\n",
              "    <tr>\n",
              "      <th>4</th>\n",
              "      <td>-114.57</td>\n",
              "      <td>33.57</td>\n",
              "      <td>20.0</td>\n",
              "      <td>1454.0</td>\n",
              "      <td>326.0</td>\n",
              "      <td>624.0</td>\n",
              "      <td>262.0</td>\n",
              "      <td>1.9250</td>\n",
              "      <td>65500.0</td>\n",
              "    </tr>\n",
              "  </tbody>\n",
              "</table>\n",
              "</div>\n",
              "      <button class=\"colab-df-convert\" onclick=\"convertToInteractive('df-8800a3d7-3a66-4fa6-b6ff-58cad9b6f536')\"\n",
              "              title=\"Convert this dataframe to an interactive table.\"\n",
              "              style=\"display:none;\">\n",
              "        \n",
              "  <svg xmlns=\"http://www.w3.org/2000/svg\" height=\"24px\"viewBox=\"0 0 24 24\"\n",
              "       width=\"24px\">\n",
              "    <path d=\"M0 0h24v24H0V0z\" fill=\"none\"/>\n",
              "    <path d=\"M18.56 5.44l.94 2.06.94-2.06 2.06-.94-2.06-.94-.94-2.06-.94 2.06-2.06.94zm-11 1L8.5 8.5l.94-2.06 2.06-.94-2.06-.94L8.5 2.5l-.94 2.06-2.06.94zm10 10l.94 2.06.94-2.06 2.06-.94-2.06-.94-.94-2.06-.94 2.06-2.06.94z\"/><path d=\"M17.41 7.96l-1.37-1.37c-.4-.4-.92-.59-1.43-.59-.52 0-1.04.2-1.43.59L10.3 9.45l-7.72 7.72c-.78.78-.78 2.05 0 2.83L4 21.41c.39.39.9.59 1.41.59.51 0 1.02-.2 1.41-.59l7.78-7.78 2.81-2.81c.8-.78.8-2.07 0-2.86zM5.41 20L4 18.59l7.72-7.72 1.47 1.35L5.41 20z\"/>\n",
              "  </svg>\n",
              "      </button>\n",
              "      \n",
              "  <style>\n",
              "    .colab-df-container {\n",
              "      display:flex;\n",
              "      flex-wrap:wrap;\n",
              "      gap: 12px;\n",
              "    }\n",
              "\n",
              "    .colab-df-convert {\n",
              "      background-color: #E8F0FE;\n",
              "      border: none;\n",
              "      border-radius: 50%;\n",
              "      cursor: pointer;\n",
              "      display: none;\n",
              "      fill: #1967D2;\n",
              "      height: 32px;\n",
              "      padding: 0 0 0 0;\n",
              "      width: 32px;\n",
              "    }\n",
              "\n",
              "    .colab-df-convert:hover {\n",
              "      background-color: #E2EBFA;\n",
              "      box-shadow: 0px 1px 2px rgba(60, 64, 67, 0.3), 0px 1px 3px 1px rgba(60, 64, 67, 0.15);\n",
              "      fill: #174EA6;\n",
              "    }\n",
              "\n",
              "    [theme=dark] .colab-df-convert {\n",
              "      background-color: #3B4455;\n",
              "      fill: #D2E3FC;\n",
              "    }\n",
              "\n",
              "    [theme=dark] .colab-df-convert:hover {\n",
              "      background-color: #434B5C;\n",
              "      box-shadow: 0px 1px 3px 1px rgba(0, 0, 0, 0.15);\n",
              "      filter: drop-shadow(0px 1px 2px rgba(0, 0, 0, 0.3));\n",
              "      fill: #FFFFFF;\n",
              "    }\n",
              "  </style>\n",
              "\n",
              "      <script>\n",
              "        const buttonEl =\n",
              "          document.querySelector('#df-8800a3d7-3a66-4fa6-b6ff-58cad9b6f536 button.colab-df-convert');\n",
              "        buttonEl.style.display =\n",
              "          google.colab.kernel.accessAllowed ? 'block' : 'none';\n",
              "\n",
              "        async function convertToInteractive(key) {\n",
              "          const element = document.querySelector('#df-8800a3d7-3a66-4fa6-b6ff-58cad9b6f536');\n",
              "          const dataTable =\n",
              "            await google.colab.kernel.invokeFunction('convertToInteractive',\n",
              "                                                     [key], {});\n",
              "          if (!dataTable) return;\n",
              "\n",
              "          const docLinkHtml = 'Like what you see? Visit the ' +\n",
              "            '<a target=\"_blank\" href=https://colab.research.google.com/notebooks/data_table.ipynb>data table notebook</a>'\n",
              "            + ' to learn more about interactive tables.';\n",
              "          element.innerHTML = '';\n",
              "          dataTable['output_type'] = 'display_data';\n",
              "          await google.colab.output.renderOutput(dataTable, element);\n",
              "          const docLink = document.createElement('div');\n",
              "          docLink.innerHTML = docLinkHtml;\n",
              "          element.appendChild(docLink);\n",
              "        }\n",
              "      </script>\n",
              "    </div>\n",
              "  </div>\n",
              "  "
            ]
          },
          "metadata": {},
          "execution_count": 221
        }
      ]
    },
    {
      "cell_type": "code",
      "source": [
        "df.isna().sum() # Checked the dataset if there is any null values present"
      ],
      "metadata": {
        "id": "MsJr-AFrPq2H",
        "outputId": "8212248a-beeb-4379-dce0-9961e5a8436e",
        "colab": {
          "base_uri": "https://localhost:8080/"
        }
      },
      "execution_count": null,
      "outputs": [
        {
          "output_type": "execute_result",
          "data": {
            "text/plain": [
              "longitude             0\n",
              "latitude              0\n",
              "housing_median_age    0\n",
              "total_rooms           0\n",
              "total_bedrooms        0\n",
              "population            0\n",
              "households            0\n",
              "median_income         0\n",
              "median_house_value    0\n",
              "dtype: int64"
            ]
          },
          "metadata": {},
          "execution_count": 222
        }
      ]
    },
    {
      "cell_type": "code",
      "source": [
        "import matplotlib.pyplot as plt\n",
        "\n",
        "df['median_house_value'].hist()\n",
        "plt.show()"
      ],
      "metadata": {
        "colab": {
          "base_uri": "https://localhost:8080/",
          "height": 432
        },
        "id": "BpPfNKElr4vS",
        "outputId": "4e3a8aa4-306f-49a3-acc2-37eca1065d37"
      },
      "execution_count": null,
      "outputs": [
        {
          "output_type": "display_data",
          "data": {
            "text/plain": [
              "<Figure size 640x480 with 1 Axes>"
            ],
            "image/png": "[encoded data removed]"
          },
          "metadata": {}
        }
      ]
    },
    {
      "cell_type": "code",
      "source": [
        "# create a new target variable for SMOTE\n",
        "import numpy as np\n",
        "\n",
        "# nice imbalanced data!\n",
        "df['median_house_value'] = np.where(df['median_house_value'] < 380000, 1, 0)\n",
        "df['median_house_value'].value_counts()"
      ],
      "metadata": {
        "colab": {
          "base_uri": "https://localhost:8080/"
        },
        "id": "P009tBzPsXLC",
        "outputId": "09092de9-f2cf-4718-9f72-da853dc11460"
      },
      "execution_count": null,
      "outputs": [
        {
          "output_type": "execute_result",
          "data": {
            "text/plain": [
              "1    15304\n",
              "0     1696\n",
              "Name: median_house_value, dtype: int64"
            ]
          },
          "metadata": {},
          "execution_count": 224
        }
      ]
    },
    {
      "cell_type": "markdown",
      "source": [
        "# (5 pts) Split data into train and test\n",
        "Remember, your dataset should be split into train and test FIRST so that the test dataset retains the original distribution of 0s and 1s. No SMOTE data in the test partition - your boss only cares about real rows!"
      ],
      "metadata": {
        "id": "sayCYaFuspLm"
      }
    },
    {
      "cell_type": "code",
      "source": [
        "y = df['median_house_value'] # assign the 'median_house_value' column to variable y.\n",
        "X = df.drop('median_house_value', axis=1) # assign all columns except 'median_house_value' to variable X.\n",
        "print(X.shape, y.shape) # print the shapes of X and y."
      ],
      "metadata": {
        "id": "Id5Wip56NkZ6",
        "outputId": "877b93b1-7c67-4035-dc1d-1692a1e992fe",
        "colab": {
          "base_uri": "https://localhost:8080/"
        }
      },
      "execution_count": null,
      "outputs": [
        {
          "output_type": "stream",
          "name": "stdout",
          "text": [
            "(17000, 8) (17000,)\n"
          ]
        }
      ]
    },
    {
      "cell_type": "code",
      "source": [
        "X = np.array(X) #convert the X dataframe to a numpy array.\n",
        "y = np.array(y) #convert the Y dataframe to a numpy array."
      ],
      "metadata": {
        "id": "X74tjm5cUX3i"
      },
      "execution_count": null,
      "outputs": []
    },
    {
      "cell_type": "code",
      "source": [
        "from sklearn.model_selection import train_test_split #imported train-test_split from Sklearn library\n",
        "X_train, X_test, y_train, y_test = train_test_split(X, y, test_size = 0.2, random_state=3052984) # Split the dataset into train and test sets\n",
        "print(X_train.shape, X_test.shape, y_train.shape, y_test.shape) # Print the dimensions of the train and test sets"
      ],
      "metadata": {
        "id": "1xZgek7KUbT1",
        "outputId": "e6f45729-e869-4a92-906f-0e53f361c055",
        "colab": {
          "base_uri": "https://localhost:8080/"
        }
      },
      "execution_count": null,
      "outputs": [
        {
          "output_type": "stream",
          "name": "stdout",
          "text": [
            "(13600, 8) (3400, 8) (13600,) (3400,)\n"
          ]
        }
      ]
    },
    {
      "cell_type": "markdown",
      "source": [
        "# (15 pts) Majority Undersampling\n",
        "Perform majority undersampling and evaluate model performance (use confusion matrices, classifcation report) and make comments about what you see."
      ],
      "metadata": {
        "id": "Jbsq-9UJpbIf"
      }
    },
    {
      "cell_type": "code",
      "source": [
        "# Imported libraries\n",
        "from collections import Counter\n",
        "from sklearn.datasets import make_classification\n",
        "from imblearn.under_sampling import RandomUnderSampler"
      ],
      "metadata": {
        "id": "EE8eQcg5QwE-"
      },
      "execution_count": null,
      "outputs": []
    },
    {
      "cell_type": "code",
      "source": [
        "undersample = RandomUnderSampler(sampling_strategy='majority') #randomly select  majority class to balance the class distribution.\n",
        "X_under, y_under = undersample.fit_resample(X, y) #resample the dataset, creating new X_under and y_under variables\n",
        "print(Counter(y_under)) # prints the no.of 0 & 1"
      ],
      "metadata": {
        "id": "j_YfDCP_Q2jk",
        "outputId": "53d4d522-875a-448a-eff6-bf33832cb040",
        "colab": {
          "base_uri": "https://localhost:8080/"
        }
      },
      "execution_count": null,
      "outputs": [
        {
          "output_type": "stream",
          "name": "stdout",
          "text": [
            "Counter({0: 1696, 1: 1696})\n"
          ]
        }
      ]
    },
    {
      "cell_type": "code",
      "source": [
        "# Import DecisionTreeClassifier and required metrics\n",
        "from sklearn.tree import DecisionTreeClassifier\n",
        "from sklearn.metrics import confusion_matrix, classification_report\n",
        "# Split the undersampled dataset into train and test sets\n",
        "X_train, X_test, y_train, y_test = train_test_split(X_under, y_under, test_size=0.2, random_state=123)\n",
        "# Define a Decision Tree Classifier with a minimum sample split of 10\n",
        "DTC = DecisionTreeClassifier(min_samples_split=10)\n",
        "#Fit the Decision Tree Classifier to the training set\n",
        "DTC.fit(X_train, y_train)\n",
        "# Making predictions on the train and test sets\n",
        "train_preds = DTC.predict(X_train)\n",
        "test_preds = DTC.predict(X_test)\n",
        "# Print the confusion matrix and classification report for the train set\n",
        "print('Train results: \\n')\n",
        "print(confusion_matrix(y_train, train_preds))\n",
        "print(classification_report(y_train, train_preds))\n",
        "# Print the confusion matrix and classification report for the test set\n",
        "print('Test results: \\n')\n",
        "print(confusion_matrix(y_test, test_preds))\n",
        "print(classification_report(y_test, test_preds))\n",
        "print(\"Accuracy:\", accuracy_score(y_test, test_preds))"
      ],
      "metadata": {
        "id": "uvbsz144WwZ9",
        "colab": {
          "base_uri": "https://localhost:8080/"
        },
        "outputId": "51ab2d39-3576-49a7-ae39-e80a9dc937c2"
      },
      "execution_count": null,
      "outputs": [
        {
          "output_type": "stream",
          "name": "stdout",
          "text": [
            "Train results: \n",
            "\n",
            "[[1297   60]\n",
            " [  70 1286]]\n",
            "              precision    recall  f1-score   support\n",
            "\n",
            "           0       0.95      0.96      0.95      1357\n",
            "           1       0.96      0.95      0.95      1356\n",
            "\n",
            "    accuracy                           0.95      2713\n",
            "   macro avg       0.95      0.95      0.95      2713\n",
            "weighted avg       0.95      0.95      0.95      2713\n",
            "\n",
            "Test results: \n",
            "\n",
            "[[284  55]\n",
            " [ 55 285]]\n",
            "              precision    recall  f1-score   support\n",
            "\n",
            "           0       0.84      0.84      0.84       339\n",
            "           1       0.84      0.84      0.84       340\n",
            "\n",
            "    accuracy                           0.84       679\n",
            "   macro avg       0.84      0.84      0.84       679\n",
            "weighted avg       0.84      0.84      0.84       679\n",
            "\n",
            "Accuracy: 0.8379970544918999\n"
          ]
        }
      ]
    },
    {
      "cell_type": "markdown",
      "source": [
        "# (15 pts) Minority Oversampling\n",
        "Perform minority oversampling and evaluate model performance (use confusion matrices, classifcation report) and make comments about what you see."
      ],
      "metadata": {
        "id": "BKsan5mUpc1q"
      }
    },
    {
      "cell_type": "code",
      "source": [
        "from imblearn.over_sampling import RandomOverSampler # Imported over sampler from imblearn"
      ],
      "metadata": {
        "id": "62hCa1pnXf0o"
      },
      "execution_count": null,
      "outputs": []
    },
    {
      "cell_type": "code",
      "source": [
        "oversample = RandomOverSampler(sampling_strategy='minority') #randomly select  minority class to balance the class distribution.\n",
        "X_over, y_over = oversample.fit_resample(X, y)  #resample the dataset, creating new X_over and y_over variables\n",
        "print(Counter(y_over)) # prints the count of no.of 0 & 1"
      ],
      "metadata": {
        "id": "nucroxZcX2eJ",
        "outputId": "5a96a5b8-71a0-4899-c02d-ec6ece6f9c8e",
        "colab": {
          "base_uri": "https://localhost:8080/"
        }
      },
      "execution_count": null,
      "outputs": [
        {
          "output_type": "stream",
          "name": "stdout",
          "text": [
            "Counter({1: 15304, 0: 15304})\n"
          ]
        }
      ]
    },
    {
      "cell_type": "code",
      "source": [
        "# Imported DTC classifier from sklearn tree and metrics to caluculate accuracy\n",
        "from sklearn.tree import DecisionTreeClassifier\n",
        "from sklearn.metrics import confusion_matrix, classification_report\n",
        "# Split the X_over and y_over datasets into train and test\n",
        "X_train, X_test, y_train, y_test = train_test_split(X_over, y_over, test_size=0.2, random_state=123)\n",
        "# Created a DecisionTreeClassifier model with a min_samples_split\n",
        "DTC = DecisionTreeClassifier(min_samples_split=10)\n",
        "# fitted the data on train and test data sets\n",
        "DTC.fit(X_train, y_train)\n",
        "train_preds = DTC.predict(X_train)\n",
        "test_preds = DTC.predict(X_test)\n",
        "print('Train results: \\n')\n",
        "print(confusion_matrix(y_train, train_preds))\n",
        "print(classification_report(y_train, train_preds))\n",
        "print('Test results: \\n')\n",
        "print(confusion_matrix(y_test, test_preds))\n",
        "print(classification_report(y_test, test_preds))\n",
        "print(\"Accuracy:\", accuracy_score(y_test, test_preds))"
      ],
      "metadata": {
        "colab": {
          "base_uri": "https://localhost:8080/"
        },
        "id": "wZC-KO4bgMyC",
        "outputId": "fd3c2d4b-c76b-4f4f-f4ad-3d47b3ae3c20"
      },
      "execution_count": null,
      "outputs": [
        {
          "output_type": "stream",
          "name": "stdout",
          "text": [
            "Train results: \n",
            "\n",
            "[[12247     2]\n",
            " [   79 12158]]\n",
            "              precision    recall  f1-score   support\n",
            "\n",
            "           0       0.99      1.00      1.00     12249\n",
            "           1       1.00      0.99      1.00     12237\n",
            "\n",
            "    accuracy                           1.00     24486\n",
            "   macro avg       1.00      1.00      1.00     24486\n",
            "weighted avg       1.00      1.00      1.00     24486\n",
            "\n",
            "Test results: \n",
            "\n",
            "[[3054    1]\n",
            " [ 180 2887]]\n",
            "              precision    recall  f1-score   support\n",
            "\n",
            "           0       0.94      1.00      0.97      3055\n",
            "           1       1.00      0.94      0.97      3067\n",
            "\n",
            "    accuracy                           0.97      6122\n",
            "   macro avg       0.97      0.97      0.97      6122\n",
            "weighted avg       0.97      0.97      0.97      6122\n",
            "\n",
            "Accuracy: 0.9704344985298922\n"
          ]
        }
      ]
    },
    {
      "cell_type": "markdown",
      "source": [
        "# (15 pts) SMOTE\n",
        "Perform synthetic minority oversampling and evaluate model performance (use confusion matrices, classifcation report) and make comments about what you see."
      ],
      "metadata": {
        "id": "V1VyzC2Kpekb"
      }
    },
    {
      "cell_type": "code",
      "source": [
        "# Converted X & y into numpy arrays\n",
        "X = np.array(X)\n",
        "y = np.array(y)"
      ],
      "metadata": {
        "id": "yOj8OmdqwZ3m"
      },
      "execution_count": null,
      "outputs": []
    },
    {
      "cell_type": "code",
      "source": [
        "# Imported the required libraries\n",
        "import warnings\n",
        "warnings.simplefilter(action='ignore', category=FutureWarning)\n",
        "from sklearn.neighbors import NearestNeighbors\n",
        "import random\n",
        "from collections import Counter"
      ],
      "metadata": {
        "id": "9_ef3YOgw1F3"
      },
      "execution_count": null,
      "outputs": []
    },
    {
      "cell_type": "code",
      "source": [
        "# Scatter plot of the data before performing SMOTE\n",
        "counter = Counter(y)\n",
        "for label, _ in counter.items():\n",
        " row_ix = np.where(y == label)[0]\n",
        " plt.scatter(X[row_ix, 0], X[row_ix, 1], label=str(label))\n",
        "plt.ylabel('median_house_value')\n",
        "plt.xlabel('X-Variables')\n",
        "plt.legend()\n",
        "plt.show()"
      ],
      "metadata": {
        "id": "uR4EREXZwghp",
        "outputId": "74188f7c-fb07-41c4-ddbb-fd1cdaa1f5db",
        "colab": {
          "base_uri": "https://localhost:8080/",
          "height": 449
        }
      },
      "execution_count": null,
      "outputs": [
        {
          "output_type": "display_data",
          "data": {
            "text/plain": [
              "<Figure size 640x480 with 1 Axes>"
            ],
            "image/png": "[encoded data removed]"
          },
          "metadata": {}
        }
      ]
    },
    {
      "cell_type": "code",
      "source": [
        "# Splitting data into train and test\n",
        "from sklearn.model_selection import train_test_split\n",
        "X_train, X_test, y_train, y_test = train_test_split(X, y, test_size=0.2, random_state=123)\n",
        "print(X_train.shape, X_test.shape)\n",
        "print(y_train.shape, y_test.shape)"
      ],
      "metadata": {
        "id": "QNgH6_8byEyS",
        "outputId": "a24138b5-6313-4f76-cb85-c93eb6181517",
        "colab": {
          "base_uri": "https://localhost:8080/"
        }
      },
      "execution_count": null,
      "outputs": [
        {
          "output_type": "stream",
          "name": "stdout",
          "text": [
            "(13600, 8) (3400, 8)\n",
            "(13600,) (3400,)\n"
          ]
        }
      ]
    },
    {
      "cell_type": "code",
      "source": [
        "Counter(y_train) # No. of 1 & 0 in y train"
      ],
      "metadata": {
        "id": "_69D3Q03yTEk",
        "outputId": "03cec07f-83e0-4390-c43d-1a4e9f7608b3",
        "colab": {
          "base_uri": "https://localhost:8080/"
        }
      },
      "execution_count": null,
      "outputs": [
        {
          "output_type": "execute_result",
          "data": {
            "text/plain": [
              "Counter({1: 12254, 0: 1346})"
            ]
          },
          "metadata": {},
          "execution_count": 238
        }
      ]
    },
    {
      "cell_type": "code",
      "source": [
        "Counter(y_test) # No. of 1 & 0 in y test"
      ],
      "metadata": {
        "id": "6y3xt9e9yZwx",
        "outputId": "5c7a0b48-1d74-4e39-8e00-069ab1836dd8",
        "colab": {
          "base_uri": "https://localhost:8080/"
        }
      },
      "execution_count": null,
      "outputs": [
        {
          "output_type": "execute_result",
          "data": {
            "text/plain": [
              "Counter({1: 3050, 0: 350})"
            ]
          },
          "metadata": {},
          "execution_count": 239
        }
      ]
    },
    {
      "cell_type": "code",
      "source": [
        "# Imported SMOTE & SVMSMOTE from imblearn\n",
        "from imblearn.over_sampling import SMOTE\n",
        "from imblearn.over_sampling import SVMSMOTE\n",
        "\n",
        "# transform the dataset using SVMSMOTE(oversampling)\n",
        "oversample = SVMSMOTE()\n",
        "X_res, y_res = oversample.fit_resample(X_train, y_train) # Resampled data\n",
        "counter = Counter(y_res)\n",
        "print(counter) # Count of resampled data"
      ],
      "metadata": {
        "id": "rsWWZrCGyrOA",
        "outputId": "6e590a06-0675-412e-ef6a-da655c7180eb",
        "colab": {
          "base_uri": "https://localhost:8080/"
        }
      },
      "execution_count": null,
      "outputs": [
        {
          "output_type": "stream",
          "name": "stdout",
          "text": [
            "Counter({1: 12254, 0: 12254})\n"
          ]
        }
      ]
    },
    {
      "cell_type": "code",
      "source": [
        "# scatter plot of Resampled data after performing SVMSMOTE\n",
        "for label, _ in counter.items():\n",
        " row_ix = np.where(y_res == label)[0]\n",
        " plt.scatter(X_res[row_ix, 0], X_res[row_ix, 1], label=str(label))\n",
        "plt.ylabel('Median House Value')\n",
        "plt.xlabel('Predictors')\n",
        "plt.legend()\n",
        "plt.show()"
      ],
      "metadata": {
        "id": "H8mDagBJyyq3",
        "outputId": "ffa45be8-2aca-45ba-c17d-517ebeb08ba7",
        "colab": {
          "base_uri": "https://localhost:8080/",
          "height": 449
        }
      },
      "execution_count": null,
      "outputs": [
        {
          "output_type": "display_data",
          "data": {
            "text/plain": [
              "<Figure size 640x480 with 1 Axes>"
            ],
            "image/png": "[encoded data removed]"
          },
          "metadata": {}
        }
      ]
    },
    {
      "cell_type": "code",
      "source": [
        "# Importing the DTC classifier with a minimum sample split of 10\n",
        "from sklearn.tree import DecisionTreeClassifier\n",
        "from sklearn.metrics import classification_report\n",
        "DTC = DecisionTreeClassifier(min_samples_split=10)"
      ],
      "metadata": {
        "id": "J7YvsNE9zDrK"
      },
      "execution_count": null,
      "outputs": []
    },
    {
      "cell_type": "markdown",
      "source": [
        "## Results of the original Test and Train values\n"
      ],
      "metadata": {
        "id": "oyqhfeiDrp7x"
      }
    },
    {
      "cell_type": "code",
      "source": [
        "# results of Original data before resampling(before performing SVMSMOTE)\n",
        "DTC.fit(X_train, y_train)\n",
        "train_preds = DTC.predict(X_train)\n",
        "test_preds = DTC.predict(X_test)\n",
        "\n",
        "print('Train results: \\n')\n",
        "print(confusion_matrix(y_train, train_preds))\n",
        "print(classification_report(y_train, train_preds))\n",
        "print('Test results: \\n')\n",
        "print(confusion_matrix(y_test, test_preds))\n",
        "print(classification_report(y_test, test_preds))\n",
        "print(\"Accuracy:\", accuracy_score(y_test, test_preds))"
      ],
      "metadata": {
        "id": "Soz2IKdPzIzD",
        "outputId": "2c013908-7a3e-4177-b56e-890c7051f45e",
        "colab": {
          "base_uri": "https://localhost:8080/"
        }
      },
      "execution_count": null,
      "outputs": [
        {
          "output_type": "stream",
          "name": "stdout",
          "text": [
            "Train results: \n",
            "\n",
            "[[ 1201   145]\n",
            " [  161 12093]]\n",
            "              precision    recall  f1-score   support\n",
            "\n",
            "           0       0.88      0.89      0.89      1346\n",
            "           1       0.99      0.99      0.99     12254\n",
            "\n",
            "    accuracy                           0.98     13600\n",
            "   macro avg       0.93      0.94      0.94     13600\n",
            "weighted avg       0.98      0.98      0.98     13600\n",
            "\n",
            "Test results: \n",
            "\n",
            "[[ 208  142]\n",
            " [ 140 2910]]\n",
            "              precision    recall  f1-score   support\n",
            "\n",
            "           0       0.60      0.59      0.60       350\n",
            "           1       0.95      0.95      0.95      3050\n",
            "\n",
            "    accuracy                           0.92      3400\n",
            "   macro avg       0.78      0.77      0.77      3400\n",
            "weighted avg       0.92      0.92      0.92      3400\n",
            "\n",
            "Accuracy: 0.9170588235294118\n"
          ]
        }
      ]
    },
    {
      "cell_type": "markdown",
      "source": [
        "## Results of the Re-sampled data"
      ],
      "metadata": {
        "id": "wZpDxDlbr6e3"
      }
    },
    {
      "cell_type": "code",
      "source": [
        "# results of resampled data (after performing SVMSMOTE)\n",
        "DTC.fit(X_res, y_res)\n",
        "train_preds = DTC.predict(X_res)\n",
        "test_preds = DTC.predict(X_test)\n",
        "print('Train results: \\n')\n",
        "print(classification_report(y_res, train_preds))\n",
        "print('Test results: \\n')\n",
        "print(classification_report(y_test, test_preds))\n",
        "print(\"Accuracy:\", accuracy_score(y_test, test_preds))"
      ],
      "metadata": {
        "id": "Z2INsgCwzLiS",
        "outputId": "98d966ea-ee37-4629-d077-824d0c70bc7c",
        "colab": {
          "base_uri": "https://localhost:8080/"
        }
      },
      "execution_count": null,
      "outputs": [
        {
          "output_type": "stream",
          "name": "stdout",
          "text": [
            "Train results: \n",
            "\n",
            "              precision    recall  f1-score   support\n",
            "\n",
            "           0       0.98      0.98      0.98     12254\n",
            "           1       0.98      0.98      0.98     12254\n",
            "\n",
            "    accuracy                           0.98     24508\n",
            "   macro avg       0.98      0.98      0.98     24508\n",
            "weighted avg       0.98      0.98      0.98     24508\n",
            "\n",
            "Test results: \n",
            "\n",
            "              precision    recall  f1-score   support\n",
            "\n",
            "           0       0.50      0.73      0.59       350\n",
            "           1       0.97      0.92      0.94      3050\n",
            "\n",
            "    accuracy                           0.90      3400\n",
            "   macro avg       0.73      0.82      0.77      3400\n",
            "weighted avg       0.92      0.90      0.91      3400\n",
            "\n",
            "Accuracy: 0.8976470588235295\n"
          ]
        }
      ]
    },
    {
      "cell_type": "markdown",
      "source": [
        "# (5 pts) Comparison of 3 methods\n",
        "Out of the three methods, did any do the best? Make a few comments about what you see."
      ],
      "metadata": {
        "id": "l74UnVGUwDht"
      }
    },
    {
      "cell_type": "markdown",
      "source": [
        "## By comparing all three models the Minority oversampling is giving higher accuracy of 97% for the following California housing dataset with the best precision & Recall score. And the accuracy for Majority undersampling and SMOTE is 82% and 90%."
      ],
      "metadata": {
        "id": "BXnNPXYw-lrD"
      }
    },
    {
      "cell_type": "markdown",
      "source": [
        "# (40 pts) Reproducibility - run it 30 times or more!\n",
        "This is one is a little tougher - choose any method and replicate it at least 30 times using a for loop. This means you will split into train and test 30 times (which means you should choose a random_state equal to 'i' as your for loop spins.)\n",
        "\n",
        "The purpose of this is so that you can show the distribution (hopefully a bell curve but not necessarily) of accuracy, precision and recall. Do some folds get predicted better than others?\n",
        "\n"
      ],
      "metadata": {
        "id": "szsg5sSgtKWP"
      }
    },
    {
      "cell_type": "code",
      "source": [
        "from sklearn.model_selection import RepeatedKFold\n",
        "from sklearn.model_selection import cross_val_score\n",
        "from sklearn.model_selection import train_test_split\n",
        "X = np.array(X)\n",
        "y = np.array(y)\n",
        "\n",
        "accuracy = []\n",
        "precision = []\n",
        "recall = []\n",
        "\n",
        "for i in range(30):\n",
        "    # Split data into k folds\n",
        "    kf = RepeatedKFold(n_splits=10,random_state=i)\n",
        "\n",
        "    # Initialize lists to store evaluation metrics\n",
        "    train_scores = []\n",
        "    test_scores = []\n",
        "    # Train and evaluate your model\n",
        "    DTC = DecisionTreeClassifier(min_samples_split=10)\n",
        "    DTC.fit(X_train, y_train)\n",
        "    train_preds = DTC.predict(X_train)\n",
        "    test_preds = DTC.predict(X_test)\n",
        "    accuracyScore = accuracy_score(y_test, test_preds)\n",
        "    precisionScore = precision_score(test_preds, y_test,average='weighted')\n",
        "    recallScore = recall_score(y_test, test_preds, average='weighted')\n",
        "\n",
        "    accuracy.append(accuracyScore)\n",
        "    precision.append(precisionScore)\n",
        "    recall.append(recallScore)\n",
        "\n",
        "\n",
        "    # Prints accuracy scores i[of each iteration\n",
        "    print(f\"Iteration {i+1}:\")\n",
        "    print('Accuracy:', accuracyScore)\n",
        "    print('Precision', precisionScore)\n",
        "    print('Recall:',  recallScore)"
      ],
      "metadata": {
        "id": "Eq1rAqv37gWn",
        "outputId": "50df3cb5-e758-4f2c-de28-1537208e939d",
        "colab": {
          "base_uri": "https://localhost:8080/"
        }
      },
      "execution_count": null,
      "outputs": [
        {
          "output_type": "stream",
          "name": "stdout",
          "text": [
            "Iteration 1:\n",
            "Accuracy: 0.9191176470588235\n",
            "Precision 0.9194287229645958\n",
            "Recall: 0.9191176470588235\n",
            "Iteration 2:\n",
            "Accuracy: 0.918235294117647\n",
            "Precision 0.9186563989530238\n",
            "Recall: 0.918235294117647\n",
            "Iteration 3:\n",
            "Accuracy: 0.9179411764705883\n",
            "Precision 0.918690549662488\n",
            "Recall: 0.9179411764705883\n",
            "Iteration 4:\n",
            "Accuracy: 0.918235294117647\n",
            "Precision 0.918030362308858\n",
            "Recall: 0.918235294117647\n",
            "Iteration 5:\n",
            "Accuracy: 0.9167647058823529\n",
            "Precision 0.9168704366992698\n",
            "Recall: 0.9167647058823529\n",
            "Iteration 6:\n",
            "Accuracy: 0.9170588235294118\n",
            "Precision 0.9170588235294118\n",
            "Recall: 0.9170588235294118\n",
            "Iteration 7:\n",
            "Accuracy: 0.9176470588235294\n",
            "Precision 0.9174406392065022\n",
            "Recall: 0.9176470588235294\n",
            "Iteration 8:\n",
            "Accuracy: 0.9155882352941176\n",
            "Precision 0.9150661936905911\n",
            "Recall: 0.9155882352941176\n",
            "Iteration 9:\n",
            "Accuracy: 0.9176470588235294\n",
            "Precision 0.9176470588235294\n",
            "Recall: 0.9176470588235294\n",
            "Iteration 10:\n",
            "Accuracy: 0.918235294117647\n",
            "Precision 0.918235294117647\n",
            "Recall: 0.918235294117647\n",
            "Iteration 11:\n",
            "Accuracy: 0.9173529411764706\n",
            "Precision 0.9168420581347293\n",
            "Recall: 0.9173529411764706\n",
            "Iteration 12:\n",
            "Accuracy: 0.9167647058823529\n",
            "Precision 0.9164531340405015\n",
            "Recall: 0.9167647058823529\n",
            "Iteration 13:\n",
            "Accuracy: 0.9170588235294118\n",
            "Precision 0.9166467557514809\n",
            "Recall: 0.9170588235294118\n",
            "Iteration 14:\n",
            "Accuracy: 0.9185294117647059\n",
            "Precision 0.918842719382835\n",
            "Recall: 0.9185294117647059\n",
            "Iteration 15:\n",
            "Accuracy: 0.9161764705882353\n",
            "Precision 0.9154573770491803\n",
            "Recall: 0.9161764705882353\n",
            "Iteration 16:\n",
            "Accuracy: 0.9170588235294118\n",
            "Precision 0.9168509161041466\n",
            "Recall: 0.9170588235294118\n",
            "Iteration 17:\n",
            "Accuracy: 0.9173529411764706\n",
            "Precision 0.9172488910318225\n",
            "Recall: 0.9173529411764706\n",
            "Iteration 18:\n",
            "Accuracy: 0.9167647058823529\n",
            "Precision 0.9168704366992698\n",
            "Recall: 0.9167647058823529\n",
            "Iteration 19:\n",
            "Accuracy: 0.9185294117647059\n",
            "Precision 0.9184268494282959\n",
            "Recall: 0.9185294117647059\n",
            "Iteration 20:\n",
            "Accuracy: 0.9179411764705883\n",
            "Precision 0.9182567158010745\n",
            "Recall: 0.9179411764705883\n",
            "Iteration 21:\n",
            "Accuracy: 0.918235294117647\n",
            "Precision 0.918235294117647\n",
            "Recall: 0.918235294117647\n",
            "Iteration 22:\n",
            "Accuracy: 0.9173529411764706\n",
            "Precision 0.9168420581347293\n",
            "Recall: 0.9173529411764706\n",
            "Iteration 23:\n",
            "Accuracy: 0.918235294117647\n",
            "Precision 0.9184439729990357\n",
            "Recall: 0.918235294117647\n",
            "Iteration 24:\n",
            "Accuracy: 0.9167647058823529\n",
            "Precision 0.9168704366992698\n",
            "Recall: 0.9167647058823529\n",
            "Iteration 25:\n",
            "Accuracy: 0.9161764705882353\n",
            "Precision 0.9158626670340267\n",
            "Recall: 0.9161764705882353\n",
            "Iteration 26:\n",
            "Accuracy: 0.9164705882352941\n",
            "Precision 0.9162611930017909\n",
            "Recall: 0.9164705882352941\n",
            "Iteration 27:\n",
            "Accuracy: 0.9185294117647059\n",
            "Precision 0.9186329108692657\n",
            "Recall: 0.9185294117647059\n",
            "Iteration 28:\n",
            "Accuracy: 0.9161764705882353\n",
            "Precision 0.9156581485053037\n",
            "Recall: 0.9161764705882353\n",
            "Iteration 29:\n",
            "Accuracy: 0.9170588235294118\n",
            "Precision 0.9168509161041466\n",
            "Recall: 0.9170588235294118\n",
            "Iteration 30:\n",
            "Accuracy: 0.9167647058823529\n",
            "Precision 0.9164531340405015\n",
            "Recall: 0.9167647058823529\n"
          ]
        }
      ]
    },
    {
      "cell_type": "code",
      "source": [
        "# Plots of Accuracy, Precision & Recall\n",
        "fig, axs = plt.subplots(3, figsize=(10, 18))\n",
        "\n",
        "axs[0].hist(accuracy)\n",
        "axs[0].set_title(\"Accuracy Distribution\")\n",
        "axs[0].set_xlabel(\"Accuracy\")\n",
        "axs[0].set_ylabel(\"Frequency\")\n",
        "\n",
        "axs[1].hist(precision)\n",
        "axs[1].set_title(\"Precision Distribution\")\n",
        "axs[1].set_xlabel(\"Precision\")\n",
        "axs[1].set_ylabel(\"Frequency\")\n",
        "\n",
        "axs[2].hist(recall)\n",
        "axs[2].set_title(\"Recall Distribution\")\n",
        "axs[2].set_xlabel(\"Recall\")\n",
        "axs[2].set_ylabel(\"Frequency\")\n",
        "\n",
        "plt.show()"
      ],
      "metadata": {
        "colab": {
          "base_uri": "https://localhost:8080/",
          "height": 1000
        },
        "id": "yrrUN38c55pK",
        "outputId": "f3f66624-3bcc-49df-aaa7-788ea7fcd3df"
      },
      "execution_count": null,
      "outputs": [
        {
          "output_type": "display_data",
          "data": {
            "text/plain": [
              "<Figure size 1000x1800 with 3 Axes>"
            ],
            "image/png": "[encoded data removed]"
          },
          "metadata": {}
        }
      ]
    },
    {
      "cell_type": "markdown",
      "source": [
        "# (5 pts) Comments on the repeated experiment\n"
      ],
      "metadata": {
        "id": "UygKvNSrwN7k"
      }
    },
    {
      "cell_type": "markdown",
      "source": [
        "## Performing a test repeatedly using a for loop produces consistent results with 91% accuracy, along with a constant recall and precision score. However, as the number of iterations increases, the time taken to perform the code also increases due to the additional computational work required in each iteration."
      ],
      "metadata": {
        "id": "m73GCPK68c3e"
      }
    }
  ]
}