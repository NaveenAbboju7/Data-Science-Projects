{
  "nbformat": 4,
  "nbformat_minor": 0,
  "metadata": {
    "colab": {
      "provenance": [],
      "toc_visible": true
    },
    "kernelspec": {
      "name": "python3",
      "display_name": "Python 3"
    },
    "language_info": {
      "name": "python"
    }
  },
  "cells": [
    {
      "cell_type": "code",
      "source": [],
      "metadata": {
        "id": "tRv7H6Xt6ass"
      },
      "execution_count": null,
      "outputs": []
    },
    {
      "cell_type": "markdown",
      "source": [
        "# EDA on Crime Dataset\n"
      ],
      "metadata": {
        "id": "c5UkLLFNlFCo"
      }
    },
    {
      "cell_type": "code",
      "source": [
        "\n",
        "import pandas as pd  #Imported Pandas package\n",
        "import numpy as np #Imported Numpy Package\n",
        "import matplotlib.pyplot as plt #Imported Matplot library\n"
      ],
      "metadata": {
        "id": "BrLllQ7dmYRj"
      },
      "execution_count": null,
      "outputs": []
    },
    {
      "cell_type": "markdown",
      "source": [
        "# Intro"
      ],
      "metadata": {
        "id": "NUYs-3NllW_Q"
      }
    },
    {
      "cell_type": "markdown",
      "source": [
        "Whenever I start a class off, I like to make sure that students have basic EDA chops in Python. This semester I picked a structured time series dataset from Wikipedia which tracks violent crime per State over a few years. This homework tests your skill at using data to tell a story about crime in the US. Good luck!"
      ],
      "metadata": {
        "id": "Uf6F1pVll0TK"
      }
    },
    {
      "cell_type": "markdown",
      "source": [
        "![crime map from Wiki](https://upload.wikimedia.org/wikipedia/commons/5/51/Violent_Crime_Rate_by_U.S._state.svg)"
      ],
      "metadata": {
        "id": "BxiqH1pylZSX"
      }
    },
    {
      "cell_type": "code",
      "execution_count": null,
      "metadata": {
        "id": "HbO1bRSuk7Rq"
      },
      "outputs": [],
      "source": [
        "# read the data\n",
        "df1 = pd.read_html('https://en.wikipedia.org/wiki/List_of_U.S._states_and_territories_by_violent_crime_rate')[0]"
      ]
    },
    {
      "cell_type": "code",
      "execution_count": null,
      "metadata": {
        "colab": {
          "base_uri": "https://localhost:8080/",
          "height": 237
        },
        "outputId": "958aceee-38c6-4e93-925e-56bdf53515b0",
        "id": "DcB9hW15UH0M"
      },
      "outputs": [
        {
          "output_type": "execute_result",
          "data": {
            "text/plain": [
              "     State or Territory            2020                     \\\n",
              "     State or Territory Incidence Count Violent Crime Rate   \n",
              "0                   NaN             NaN                NaN   \n",
              "1  District of Columbia          7127.0              999.8   \n",
              "2                Alaska          6126.0              837.8   \n",
              "3            New Mexico         16393.0              778.3   \n",
              "4             Tennessee         46328.0              672.7   \n",
              "\n",
              "  Historical Violent Crime Rates                                         \\\n",
              "                            2019   2018    2017    2016    2015    2014   \n",
              "0                            NaN    NaN     NaN     NaN     NaN     NaN   \n",
              "1                         1045.2  997.1  1002.7  1203.5  1269.1  1242.6   \n",
              "2                          865.0  891.7   856.7   804.6   730.2   635.5   \n",
              "3                          824.0  842.8   778.6   699.4   656.1   597.7   \n",
              "4                          598.9  630.4   655.0   638.5   612.1   610.7   \n",
              "\n",
              "                           \n",
              "     2013    2012    2011  \n",
              "0     NaN     NaN     NaN  \n",
              "1  1281.9  1241.8  1202.1  \n",
              "2   602.6   604.1   606.5  \n",
              "3   596.7   559.6   567.5  \n",
              "4   579.7   638.5   608.2  "
            ],
            "text/html": [
              "\n",
              "  <div id=\"df-1252d271-cb6a-4c11-a979-4cabdd6524dc\">\n",
              "    <div class=\"colab-df-container\">\n",
              "      <div>\n",
              "<style scoped>\n",
              "    .dataframe tbody tr th:only-of-type {\n",
              "        vertical-align: middle;\n",
              "    }\n",
              "\n",
              "    .dataframe tbody tr th {\n",
              "        vertical-align: top;\n",
              "    }\n",
              "\n",
              "    .dataframe thead tr th {\n",
              "        text-align: left;\n",
              "    }\n",
              "</style>\n",
              "<table border=\"1\" class=\"dataframe\">\n",
              "  <thead>\n",
              "    <tr>\n",
              "      <th></th>\n",
              "      <th>State or Territory</th>\n",
              "      <th colspan=\"2\" halign=\"left\">2020</th>\n",
              "      <th colspan=\"9\" halign=\"left\">Historical Violent Crime Rates</th>\n",
              "    </tr>\n",
              "    <tr>\n",
              "      <th></th>\n",
              "      <th>State or Territory</th>\n",
              "      <th>Incidence Count</th>\n",
              "      <th>Violent Crime Rate</th>\n",
              "      <th>2019</th>\n",
              "      <th>2018</th>\n",
              "      <th>2017</th>\n",
              "      <th>2016</th>\n",
              "      <th>2015</th>\n",
              "      <th>2014</th>\n",
              "      <th>2013</th>\n",
              "      <th>2012</th>\n",
              "      <th>2011</th>\n",
              "    </tr>\n",
              "  </thead>\n",
              "  <tbody>\n",
              "    <tr>\n",
              "      <th>0</th>\n",
              "      <td>NaN</td>\n",
              "      <td>NaN</td>\n",
              "      <td>NaN</td>\n",
              "      <td>NaN</td>\n",
              "      <td>NaN</td>\n",
              "      <td>NaN</td>\n",
              "      <td>NaN</td>\n",
              "      <td>NaN</td>\n",
              "      <td>NaN</td>\n",
              "      <td>NaN</td>\n",
              "      <td>NaN</td>\n",
              "      <td>NaN</td>\n",
              "    </tr>\n",
              "    <tr>\n",
              "      <th>1</th>\n",
              "      <td>District of Columbia</td>\n",
              "      <td>7127.0</td>\n",
              "      <td>999.8</td>\n",
              "      <td>1045.2</td>\n",
              "      <td>997.1</td>\n",
              "      <td>1002.7</td>\n",
              "      <td>1203.5</td>\n",
              "      <td>1269.1</td>\n",
              "      <td>1242.6</td>\n",
              "      <td>1281.9</td>\n",
              "      <td>1241.8</td>\n",
              "      <td>1202.1</td>\n",
              "    </tr>\n",
              "    <tr>\n",
              "      <th>2</th>\n",
              "      <td>Alaska</td>\n",
              "      <td>6126.0</td>\n",
              "      <td>837.8</td>\n",
              "      <td>865.0</td>\n",
              "      <td>891.7</td>\n",
              "      <td>856.7</td>\n",
              "      <td>804.6</td>\n",
              "      <td>730.2</td>\n",
              "      <td>635.5</td>\n",
              "      <td>602.6</td>\n",
              "      <td>604.1</td>\n",
              "      <td>606.5</td>\n",
              "    </tr>\n",
              "    <tr>\n",
              "      <th>3</th>\n",
              "      <td>New Mexico</td>\n",
              "      <td>16393.0</td>\n",
              "      <td>778.3</td>\n",
              "      <td>824.0</td>\n",
              "      <td>842.8</td>\n",
              "      <td>778.6</td>\n",
              "      <td>699.4</td>\n",
              "      <td>656.1</td>\n",
              "      <td>597.7</td>\n",
              "      <td>596.7</td>\n",
              "      <td>559.6</td>\n",
              "      <td>567.5</td>\n",
              "    </tr>\n",
              "    <tr>\n",
              "      <th>4</th>\n",
              "      <td>Tennessee</td>\n",
              "      <td>46328.0</td>\n",
              "      <td>672.7</td>\n",
              "      <td>598.9</td>\n",
              "      <td>630.4</td>\n",
              "      <td>655.0</td>\n",
              "      <td>638.5</td>\n",
              "      <td>612.1</td>\n",
              "      <td>610.7</td>\n",
              "      <td>579.7</td>\n",
              "      <td>638.5</td>\n",
              "      <td>608.2</td>\n",
              "    </tr>\n",
              "  </tbody>\n",
              "</table>\n",
              "</div>\n",
              "      <button class=\"colab-df-convert\" onclick=\"convertToInteractive('df-1252d271-cb6a-4c11-a979-4cabdd6524dc')\"\n",
              "              title=\"Convert this dataframe to an interactive table.\"\n",
              "              style=\"display:none;\">\n",
              "        \n",
              "  <svg xmlns=\"http://www.w3.org/2000/svg\" height=\"24px\"viewBox=\"0 0 24 24\"\n",
              "       width=\"24px\">\n",
              "    <path d=\"M0 0h24v24H0V0z\" fill=\"none\"/>\n",
              "    <path d=\"M18.56 5.44l.94 2.06.94-2.06 2.06-.94-2.06-.94-.94-2.06-.94 2.06-2.06.94zm-11 1L8.5 8.5l.94-2.06 2.06-.94-2.06-.94L8.5 2.5l-.94 2.06-2.06.94zm10 10l.94 2.06.94-2.06 2.06-.94-2.06-.94-.94-2.06-.94 2.06-2.06.94z\"/><path d=\"M17.41 7.96l-1.37-1.37c-.4-.4-.92-.59-1.43-.59-.52 0-1.04.2-1.43.59L10.3 9.45l-7.72 7.72c-.78.78-.78 2.05 0 2.83L4 21.41c.39.39.9.59 1.41.59.51 0 1.02-.2 1.41-.59l7.78-7.78 2.81-2.81c.8-.78.8-2.07 0-2.86zM5.41 20L4 18.59l7.72-7.72 1.47 1.35L5.41 20z\"/>\n",
              "  </svg>\n",
              "      </button>\n",
              "      \n",
              "  <style>\n",
              "    .colab-df-container {\n",
              "      display:flex;\n",
              "      flex-wrap:wrap;\n",
              "      gap: 12px;\n",
              "    }\n",
              "\n",
              "    .colab-df-convert {\n",
              "      background-color: #E8F0FE;\n",
              "      border: none;\n",
              "      border-radius: 50%;\n",
              "      cursor: pointer;\n",
              "      display: none;\n",
              "      fill: #1967D2;\n",
              "      height: 32px;\n",
              "      padding: 0 0 0 0;\n",
              "      width: 32px;\n",
              "    }\n",
              "\n",
              "    .colab-df-convert:hover {\n",
              "      background-color: #E2EBFA;\n",
              "      box-shadow: 0px 1px 2px rgba(60, 64, 67, 0.3), 0px 1px 3px 1px rgba(60, 64, 67, 0.15);\n",
              "      fill: #174EA6;\n",
              "    }\n",
              "\n",
              "    [theme=dark] .colab-df-convert {\n",
              "      background-color: #3B4455;\n",
              "      fill: #D2E3FC;\n",
              "    }\n",
              "\n",
              "    [theme=dark] .colab-df-convert:hover {\n",
              "      background-color: #434B5C;\n",
              "      box-shadow: 0px 1px 3px 1px rgba(0, 0, 0, 0.15);\n",
              "      filter: drop-shadow(0px 1px 2px rgba(0, 0, 0, 0.3));\n",
              "      fill: #FFFFFF;\n",
              "    }\n",
              "  </style>\n",
              "\n",
              "      <script>\n",
              "        const buttonEl =\n",
              "          document.querySelector('#df-1252d271-cb6a-4c11-a979-4cabdd6524dc button.colab-df-convert');\n",
              "        buttonEl.style.display =\n",
              "          google.colab.kernel.accessAllowed ? 'block' : 'none';\n",
              "\n",
              "        async function convertToInteractive(key) {\n",
              "          const element = document.querySelector('#df-1252d271-cb6a-4c11-a979-4cabdd6524dc');\n",
              "          const dataTable =\n",
              "            await google.colab.kernel.invokeFunction('convertToInteractive',\n",
              "                                                     [key], {});\n",
              "          if (!dataTable) return;\n",
              "\n",
              "          const docLinkHtml = 'Like what you see? Visit the ' +\n",
              "            '<a target=\"_blank\" href=https://colab.research.google.com/notebooks/data_table.ipynb>data table notebook</a>'\n",
              "            + ' to learn more about interactive tables.';\n",
              "          element.innerHTML = '';\n",
              "          dataTable['output_type'] = 'display_data';\n",
              "          await google.colab.output.renderOutput(dataTable, element);\n",
              "          const docLink = document.createElement('div');\n",
              "          docLink.innerHTML = docLinkHtml;\n",
              "          element.appendChild(docLink);\n",
              "        }\n",
              "      </script>\n",
              "    </div>\n",
              "  </div>\n",
              "  "
            ]
          },
          "metadata": {},
          "execution_count": 135
        }
      ],
      "source": [
        "# read the data\n",
        "df = pd.read_html('https://en.wikipedia.org/wiki/List_of_U.S._states_and_territories_by_violent_crime_rate')[0]\n",
        "df.head() # Head method used to print the records present at the top of the dataset"
      ]
    },
    {
      "cell_type": "markdown",
      "source": [
        "This dataset is a bit dirty - let's clean it up!"
      ],
      "metadata": {
        "id": "DhDw5AOyn6TY"
      }
    },
    {
      "cell_type": "markdown",
      "source": [
        "# Q1. Collapse the multi-index\n",
        "The index is really a double index with two layers - which in my experience is quite annoying in most cases."
      ],
      "metadata": {
        "id": "6K8uV9wKn8ca"
      }
    },
    {
      "cell_type": "code",
      "source": [
        "# look at this complicated multiIndex - yuck!\n",
        "df.columns #This line of code will print the column names of the dataframe 'df'."
      ],
      "metadata": {
        "colab": {
          "base_uri": "https://localhost:8080/"
        },
        "id": "YfbV6WL8viZR",
        "outputId": "76833c15-0f63-4cb1-a2a5-9ac9190197b6"
      },
      "execution_count": null,
      "outputs": [
        {
          "output_type": "execute_result",
          "data": {
            "text/plain": [
              "MultiIndex([(            'State or Territory', 'State or Territory'),\n",
              "            (                          '2020',    'Incidence Count'),\n",
              "            (                          '2020', 'Violent Crime Rate'),\n",
              "            ('Historical Violent Crime Rates',               '2019'),\n",
              "            ('Historical Violent Crime Rates',               '2018'),\n",
              "            ('Historical Violent Crime Rates',               '2017'),\n",
              "            ('Historical Violent Crime Rates',               '2016'),\n",
              "            ('Historical Violent Crime Rates',               '2015'),\n",
              "            ('Historical Violent Crime Rates',               '2014'),\n",
              "            ('Historical Violent Crime Rates',               '2013'),\n",
              "            ('Historical Violent Crime Rates',               '2012'),\n",
              "            ('Historical Violent Crime Rates',               '2011')],\n",
              "           )"
            ]
          },
          "metadata": {},
          "execution_count": 136
        }
      ]
    },
    {
      "cell_type": "markdown",
      "source": [
        "Read these articles then make a single set of sensible column names.\n",
        "* https://stackoverflow.com/questions/14507794/how-to-flatten-a-hierarchical-index-in-columns\n",
        "* https://stackoverflow.com/questions/19758364/rename-specific-columns-in-pandas\n",
        "\n",
        "Like ['State', '2020_incidence_count', '2020_crime_rate', '2019_crime_rate', etc.]"
      ],
      "metadata": {
        "id": "Vtwf0KSevvxd"
      }
    },
    {
      "cell_type": "code",
      "source": [
        "# look at this nice index\n",
        "df1.columns = df1.columns.to_flat_index() #multi-level labels for the columns in the dataframe are converted to single-level labels.\n",
        "print(df1)"
      ],
      "metadata": {
        "colab": {
          "base_uri": "https://localhost:8080/"
        },
        "id": "wHwzmGBfxu0Y",
        "outputId": "659462da-d8b6-41ff-efe9-64955cbfc5f1"
      },
      "execution_count": null,
      "outputs": [
        {
          "output_type": "stream",
          "name": "stdout",
          "text": [
            "   (State or Territory, State or Territory)  (2020, Incidence Count)  \\\n",
            "0                                       NaN                      NaN   \n",
            "1                      District of Columbia                   7127.0   \n",
            "2                                    Alaska                   6126.0   \n",
            "3                                New Mexico                  16393.0   \n",
            "4                                 Tennessee                  46328.0   \n",
            "5                                  Arkansas                  20363.0   \n",
            "6                                   Arizona                  35980.0   \n",
            "7                                 Louisiana                  29704.0   \n",
            "8                                  Missouri                  33385.0   \n",
            "9                            South Carolina                  27691.0   \n",
            "10                             South Dakota                   4476.0   \n",
            "11                                 Michigan                  47641.0   \n",
            "12                                  Montana                   5077.0   \n",
            "13                                   Nevada                  14445.0   \n",
            "14                                 Oklahoma                  18255.0   \n",
            "15                                  Alabama                  22322.0   \n",
            "16                                    Texas                 131084.0   \n",
            "17                               California                 174026.0   \n",
            "18                                 Delaware                   4262.0   \n",
            "19                                 Illinois                  53612.0   \n",
            "20                                   Kansas                  12835.0   \n",
            "21                                 Colorado                  24570.0   \n",
            "22                           North Carolina                  44451.0   \n",
            "23                                  Georgia                  42850.0   \n",
            "24                                 Maryland                  24215.0   \n",
            "25                             Pennsylvania                  49793.0   \n",
            "26                                  Florida                  83368.0   \n",
            "27                                 New York                  70339.0   \n",
            "28                                  Indiana                  24161.0   \n",
            "29                            West Virginia                   6352.0   \n",
            "30                                 Nebraska                   6473.0   \n",
            "31                             North Dakota                   2518.0   \n",
            "32                                Wisconsin                  18861.0   \n",
            "33                                     Ohio                  36104.0   \n",
            "34                            Massachusetts                  21288.0   \n",
            "35                                     Iowa                   9601.0   \n",
            "36                               Washington                  22596.0   \n",
            "37                                   Oregon                  12380.0   \n",
            "38                              Mississippi                   8638.0   \n",
            "39                                Minnesota                  15698.0   \n",
            "40                                     Utah                   8471.0   \n",
            "41                                 Kentucky                  11600.0   \n",
            "42                                   Hawaii                   3576.0   \n",
            "43                                    Idaho                   4432.0   \n",
            "44                                  Wyoming                   1364.0   \n",
            "45                             Rhode Island                   2440.0   \n",
            "46                                 Virginia                  17925.0   \n",
            "47                               New Jersey                  17353.0   \n",
            "48                              Connecticut                   6459.0   \n",
            "49                                  Vermont                   1081.0   \n",
            "50                              Puerto Rico                   5196.0   \n",
            "51                            New Hampshire                   2000.0   \n",
            "52                                    Maine                   1466.0   \n",
            "53                            United States                1313105.0   \n",
            "\n",
            "    (2020, Violent Crime Rate)  (Historical Violent Crime Rates, 2019)  \\\n",
            "0                          NaN                                     NaN   \n",
            "1                        999.8                                  1045.2   \n",
            "2                        837.8                                   865.0   \n",
            "3                        778.3                                   824.0   \n",
            "4                        672.7                                   598.9   \n",
            "5                        671.9                                   580.8   \n",
            "6                        654.8                                   447.1   \n",
            "7                        639.4                                   559.7   \n",
            "8                        542.7                                   499.6   \n",
            "9                        530.7                                   510.1   \n",
            "10                       501.4                                   397.1   \n",
            "11                       478.0                                   438.6   \n",
            "12                       469.8                                   417.9   \n",
            "13                       460.3                                   496.1   \n",
            "14                       458.6                                   436.3   \n",
            "15                       453.6                                   504.7   \n",
            "16                       446.5                                   421.8   \n",
            "17                       442.0                                   442.1   \n",
            "18                       431.9                                   422.7   \n",
            "19                       425.9                                   415.3   \n",
            "20                       425.0                                   405.5   \n",
            "21                       423.1                                   384.6   \n",
            "22                       419.3                                   378.7   \n",
            "23                       400.1                                   326.2   \n",
            "24                       399.9                                   454.4   \n",
            "25                       389.5                                   306.0   \n",
            "26                       383.6                                   378.2   \n",
            "27                       363.8                                   361.0   \n",
            "28                       357.7                                   371.5   \n",
            "29                       355.9                                   318.9   \n",
            "30                       334.1                                   304.6   \n",
            "31                       329.0                                   301.4   \n",
            "32                       323.4                                   297.1   \n",
            "33                       308.8                                   296.0   \n",
            "34                       308.8                                   328.7   \n",
            "35                       303.5                                   287.6   \n",
            "36                       293.7                                   303.3   \n",
            "37                       291.9                                   293.7   \n",
            "38                       291.2                                   261.2   \n",
            "39                       277.5                                   237.5   \n",
            "40                       260.7                                   236.9   \n",
            "41                       259.1                                   220.7   \n",
            "42                       254.2                                   264.5   \n",
            "43                       242.6                                   232.6   \n",
            "44                       234.2                                   215.0   \n",
            "45                       230.8                                   222.7   \n",
            "46                       208.0                                   209.4   \n",
            "47                       195.4                                   206.7   \n",
            "48                       181.6                                   184.6   \n",
            "49                       173.4                                   207.2   \n",
            "50                       164.5                                   202.9   \n",
            "51                       146.4                                   158.1   \n",
            "52                       108.6                                   116.1   \n",
            "53                       398.5                                   379.4   \n",
            "\n",
            "    (Historical Violent Crime Rates, 2018)  \\\n",
            "0                                      NaN   \n",
            "1                                    997.1   \n",
            "2                                    891.7   \n",
            "3                                    842.8   \n",
            "4                                    630.4   \n",
            "5                                    561.6   \n",
            "6                                    475.7   \n",
            "7                                    543.3   \n",
            "8                                    501.4   \n",
            "9                                    500.8   \n",
            "10                                   396.4   \n",
            "11                                   452.5   \n",
            "12                                   380.9   \n",
            "13                                   552.1   \n",
            "14                                   474.6   \n",
            "15                                   523.1   \n",
            "16                                   412.9   \n",
            "17                                   447.5   \n",
            "18                                   422.5   \n",
            "19                                   411.4   \n",
            "20                                   441.8   \n",
            "21                                   401.5   \n",
            "22                                   356.2   \n",
            "23                                   338.9   \n",
            "24                                   469.4   \n",
            "25                                   305.4   \n",
            "26                                   385.9   \n",
            "27                                   350.8   \n",
            "28                                   373.5   \n",
            "29                                   299.9   \n",
            "30                                   289.9   \n",
            "31                                   284.1   \n",
            "32                                   299.0   \n",
            "33                                   294.8   \n",
            "34                                   340.3   \n",
            "35                                   263.7   \n",
            "36                                   315.3   \n",
            "37                                   290.4   \n",
            "38                                   266.0   \n",
            "39                                   221.2   \n",
            "40                                   239.4   \n",
            "41                                   217.9   \n",
            "42                                   255.0   \n",
            "43                                   239.7   \n",
            "44                                   213.8   \n",
            "45                                   219.8   \n",
            "46                                   204.2   \n",
            "47                                   208.6   \n",
            "48                                   209.6   \n",
            "49                                   185.0   \n",
            "50                                   200.9   \n",
            "51                                   177.6   \n",
            "52                                   112.0   \n",
            "53                                   383.4   \n",
            "\n",
            "    (Historical Violent Crime Rates, 2017)  \\\n",
            "0                                      NaN   \n",
            "1                                   1002.7   \n",
            "2                                    856.7   \n",
            "3                                    778.6   \n",
            "4                                    655.0   \n",
            "5                                    566.0   \n",
            "6                                    505.7   \n",
            "7                                    556.3   \n",
            "8                                    531.2   \n",
            "9                                    506.1   \n",
            "10                                   429.8   \n",
            "11                                   449.9   \n",
            "12                                   373.9   \n",
            "13                                   560.6   \n",
            "14                                   457.4   \n",
            "15                                   522.4   \n",
            "16                                   437.8   \n",
            "17                                   453.3   \n",
            "18                                   457.3   \n",
            "19                                   436.2   \n",
            "20                                   400.4   \n",
            "21                                   372.2   \n",
            "22                                   370.4   \n",
            "23                                   356.5   \n",
            "24                                   503.3   \n",
            "25                                   313.0   \n",
            "26                                   408.1   \n",
            "27                                   361.1   \n",
            "28                                   395.0   \n",
            "29                                   361.2   \n",
            "30                                   311.8   \n",
            "31                                   282.5   \n",
            "32                                   321.8   \n",
            "33                                   296.8   \n",
            "34                                   354.3   \n",
            "35                                   287.5   \n",
            "36                                   302.8   \n",
            "37                                   280.4   \n",
            "38                                   256.2   \n",
            "39                                   239.7   \n",
            "40                                   242.2   \n",
            "41                                   231.1   \n",
            "42                                   251.2   \n",
            "43                                   239.2   \n",
            "44                                   234.6   \n",
            "45                                   234.2   \n",
            "46                                   210.4   \n",
            "47                                   231.8   \n",
            "48                                   229.2   \n",
            "49                                   173.3   \n",
            "50                                   232.6   \n",
            "51                                   195.7   \n",
            "52                                   120.6   \n",
            "53                                   394.0   \n",
            "\n",
            "    (Historical Violent Crime Rates, 2016)  \\\n",
            "0                                      NaN   \n",
            "1                                   1203.5   \n",
            "2                                    804.6   \n",
            "3                                    699.4   \n",
            "4                                    638.5   \n",
            "5                                    554.3   \n",
            "6                                    471.0   \n",
            "7                                    565.0   \n",
            "8                                    520.8   \n",
            "9                                    506.8   \n",
            "10                                   422.0   \n",
            "11                                   460.9   \n",
            "12                                   374.1   \n",
            "13                                   677.9   \n",
            "14                                   455.3   \n",
            "15                                   532.4   \n",
            "16                                   433.8   \n",
            "17                                   444.8   \n",
            "18                                   510.0   \n",
            "19                                   436.7   \n",
            "20                                   401.2   \n",
            "21                                   344.1   \n",
            "22                                   371.8   \n",
            "23                                   390.4   \n",
            "24                                   481.7   \n",
            "25                                   315.9   \n",
            "26                                   429.4   \n",
            "27                                   374.6   \n",
            "28                                   399.7   \n",
            "29                                   362.7   \n",
            "30                                   296.8   \n",
            "31                                   252.1   \n",
            "32                                   306.9   \n",
            "33                                   307.7   \n",
            "34                                   380.7   \n",
            "35                                   292.9   \n",
            "36                                   303.5   \n",
            "37                                   268.8   \n",
            "38                                   281.7   \n",
            "39                                   241.9   \n",
            "40                                   243.3   \n",
            "41                                   235.6   \n",
            "42                                   241.6   \n",
            "43                                   230.7   \n",
            "44                                   244.7   \n",
            "45                                   239.1   \n",
            "46                                   219.8   \n",
            "47                                   243.5   \n",
            "48                                   227.7   \n",
            "49                                   136.5   \n",
            "50                                   224.4   \n",
            "51                                   199.8   \n",
            "52                                   124.0   \n",
            "53                                   397.5   \n",
            "\n",
            "    (Historical Violent Crime Rates, 2015)  \\\n",
            "0                                      NaN   \n",
            "1                                   1269.1   \n",
            "2                                    730.2   \n",
            "3                                    656.1   \n",
            "4                                    612.1   \n",
            "5                                    521.3   \n",
            "6                                    410.2   \n",
            "7                                    539.7   \n",
            "8                                    497.4   \n",
            "9                                    504.5   \n",
            "10                                   383.1   \n",
            "11                                   415.5   \n",
            "12                                   349.6   \n",
            "13                                   695.9   \n",
            "14                                   422.0   \n",
            "15                                   472.4   \n",
            "16                                   412.2   \n",
            "17                                   426.3   \n",
            "18                                   499.0   \n",
            "19                                   383.8   \n",
            "20                                   389.9   \n",
            "21                                   321.0   \n",
            "22                                   347.0   \n",
            "23                                   378.3   \n",
            "24                                   457.2   \n",
            "25                                   315.1   \n",
            "26                                   461.9   \n",
            "27                                   379.7   \n",
            "28                                   387.5   \n",
            "29                                   337.9   \n",
            "30                                   274.9   \n",
            "31                                   239.4   \n",
            "32                                   305.8   \n",
            "33                                   291.9   \n",
            "34                                   390.9   \n",
            "35                                   286.1   \n",
            "36                                   284.4   \n",
            "37                                   259.8   \n",
            "38                                   275.8   \n",
            "39                                   242.6   \n",
            "40                                   236.0   \n",
            "41                                   218.7   \n",
            "42                                   293.4   \n",
            "43                                   215.6   \n",
            "44                                   222.1   \n",
            "45                                   242.5   \n",
            "46                                   195.6   \n",
            "47                                   255.4   \n",
            "48                                   218.5   \n",
            "49                                   118.0   \n",
            "50                                   219.6   \n",
            "51                                   199.3   \n",
            "52                                   130.1   \n",
            "53                                   383.2   \n",
            "\n",
            "    (Historical Violent Crime Rates, 2014)  \\\n",
            "0                                      NaN   \n",
            "1                                   1242.6   \n",
            "2                                    635.5   \n",
            "3                                    597.7   \n",
            "4                                    610.7   \n",
            "5                                    480.2   \n",
            "6                                    392.7   \n",
            "7                                    515.9   \n",
            "8                                    443.3   \n",
            "9                                    497.8   \n",
            "10                                   328.3   \n",
            "11                                   429.1   \n",
            "12                                   328.5   \n",
            "13                                   635.7   \n",
            "14                                   413.8   \n",
            "15                                   427.7   \n",
            "16                                   406.7   \n",
            "17                                   396.4   \n",
            "18                                   488.1   \n",
            "19                                   370.9   \n",
            "20                                   352.6   \n",
            "21                                   307.8   \n",
            "22                                   329.1   \n",
            "23                                   385.8   \n",
            "24                                   448.0   \n",
            "25                                   315.0   \n",
            "26                                   458.9   \n",
            "27                                   384.7   \n",
            "28                                   365.3   \n",
            "29                                   316.4   \n",
            "30                                   276.2   \n",
            "31                                   270.4   \n",
            "32                                   291.1   \n",
            "33                                   285.7   \n",
            "34                                   395.1   \n",
            "35                                   272.8   \n",
            "36                                   285.8   \n",
            "37                                   259.2   \n",
            "38                                   278.3   \n",
            "39                                   229.1   \n",
            "40                                   219.5   \n",
            "41                                   215.2   \n",
            "42                                   236.7   \n",
            "43                                   210.4   \n",
            "44                                   195.4   \n",
            "45                                   219.9   \n",
            "46                                   198.4   \n",
            "47                                   260.9   \n",
            "48                                   238.5   \n",
            "49                                   102.6   \n",
            "50                                   237.2   \n",
            "51                                   197.7   \n",
            "52                                   127.6   \n",
            "53                                   372.0   \n",
            "\n",
            "    (Historical Violent Crime Rates, 2013)  \\\n",
            "0                                      NaN   \n",
            "1                                   1281.9   \n",
            "2                                    602.6   \n",
            "3                                    596.7   \n",
            "4                                    579.7   \n",
            "5                                    445.7   \n",
            "6                                    405.8   \n",
            "7                                    510.4   \n",
            "8                                    422.0   \n",
            "9                                    494.8   \n",
            "10                                   398.7   \n",
            "11                                   429.8   \n",
            "12                                   240.7   \n",
            "13                                   591.2   \n",
            "14                                   428.1   \n",
            "15                                   418.1   \n",
            "16                                   399.8   \n",
            "17                                   396.2   \n",
            "18                                   479.1   \n",
            "19                                   372.5   \n",
            "20                                   327.5   \n",
            "21                                   291.2   \n",
            "22                                   336.6   \n",
            "23                                   359.7   \n",
            "24                                   467.8   \n",
            "25                                   326.6   \n",
            "26                                   460.0   \n",
            "27                                   389.8   \n",
            "28                                   349.9   \n",
            "29                                   289.7   \n",
            "30                                   252.2   \n",
            "31                                   256.3   \n",
            "32                                   271.1   \n",
            "33                                   275.7   \n",
            "34                                   404.0   \n",
            "35                                   260.9   \n",
            "36                                   277.9   \n",
            "37                                   242.9   \n",
            "38                                   267.4   \n",
            "39                                   223.2   \n",
            "40                                   209.2   \n",
            "41                                   198.8   \n",
            "42                                   245.3   \n",
            "43                                   204.7   \n",
            "44                                   197.7   \n",
            "45                                   244.6   \n",
            "46                                   187.9   \n",
            "47                                   285.6   \n",
            "48                                   254.5   \n",
            "49                                   114.9   \n",
            "50                                   257.8   \n",
            "51                                   199.6   \n",
            "52                                   121.6   \n",
            "53                                   367.9   \n",
            "\n",
            "    (Historical Violent Crime Rates, 2012)  \\\n",
            "0                                      NaN   \n",
            "1                                   1241.8   \n",
            "2                                    604.1   \n",
            "3                                    559.6   \n",
            "4                                    638.5   \n",
            "5                                    469.6   \n",
            "6                                    428.6   \n",
            "7                                    496.3   \n",
            "8                                    451.3   \n",
            "9                                    560.5   \n",
            "10                                   323.8   \n",
            "11                                   455.0   \n",
            "12                                   278.8   \n",
            "13                                   608.6   \n",
            "14                                   474.4   \n",
            "15                                   450.3   \n",
            "16                                   408.6   \n",
            "17                                   423.5   \n",
            "18                                   550.5   \n",
            "19                                   416.2   \n",
            "20                                   356.7   \n",
            "21                                   307.4   \n",
            "22                                   353.5   \n",
            "23                                   380.0   \n",
            "24                                   477.3   \n",
            "25                                   355.5   \n",
            "26                                   487.0   \n",
            "27                                   406.3   \n",
            "28                                   344.8   \n",
            "29                                   320.1   \n",
            "30                                   258.8   \n",
            "31                                   245.7   \n",
            "32                                   283.9   \n",
            "33                                   301.5   \n",
            "34                                   407.0   \n",
            "35                                   265.6   \n",
            "36                                   298.1   \n",
            "37                                   247.1   \n",
            "38                                   260.1   \n",
            "39                                   230.9   \n",
            "40                                   208.0   \n",
            "41                                   224.9   \n",
            "42                                   243.0   \n",
            "43                                   209.8   \n",
            "44                                   201.3   \n",
            "45                                   253.0   \n",
            "46                                   191.5   \n",
            "47                                   290.1   \n",
            "48                                   283.5   \n",
            "49                                   142.3   \n",
            "50                                   275.0   \n",
            "51                                   215.0   \n",
            "52                                   122.4   \n",
            "53                                   387.8   \n",
            "\n",
            "    (Historical Violent Crime Rates, 2011)  \n",
            "0                                      NaN  \n",
            "1                                   1202.1  \n",
            "2                                    606.5  \n",
            "3                                    567.5  \n",
            "4                                    608.2  \n",
            "5                                    480.9  \n",
            "6                                    405.9  \n",
            "7                                    555.3  \n",
            "8                                    447.4  \n",
            "9                                    571.9  \n",
            "10                                   354.1  \n",
            "11                                   453.0  \n",
            "12                                   267.5  \n",
            "13                                   562.1  \n",
            "14                                   454.8  \n",
            "15                                   420.1  \n",
            "16                                   408.5  \n",
            "17                                   411.1  \n",
            "18                                   559.5  \n",
            "19                                   424.0  \n",
            "20                                   353.9  \n",
            "21                                   320.2  \n",
            "22                                   349.8  \n",
            "23                                   373.2  \n",
            "24                                   494.1  \n",
            "25                                   355.0  \n",
            "26                                   515.3  \n",
            "27                                   398.1  \n",
            "28                                   331.8  \n",
            "29                                   315.9  \n",
            "30                                   253.2  \n",
            "31                                   247.0  \n",
            "32                                   236.9  \n",
            "33                                   307.4  \n",
            "34                                   428.4  \n",
            "35                                   255.6  \n",
            "36                                   294.6  \n",
            "37                                   247.6  \n",
            "38                                   269.8  \n",
            "39                                   221.2  \n",
            "40                                   195.0  \n",
            "41                                   238.2  \n",
            "42                                   287.2  \n",
            "43                                   200.9  \n",
            "44                                   219.3  \n",
            "45                                   247.5  \n",
            "46                                   196.7  \n",
            "47                                   308.4  \n",
            "48                                   272.8  \n",
            "49                                   135.2  \n",
            "50                                   284.4  \n",
            "51                                   188.0  \n",
            "52                                   123.2  \n",
            "53                                   386.3  \n"
          ]
        }
      ]
    },
    {
      "cell_type": "code",
      "source": [
        "# nice names for each column (you can manually rename each column)\n",
        "# or use something like _add_suffix\n",
        "#This code changes the column names of the dataframe df1 to a list of new names.\n",
        "df1.columns = ['State or Territory',\n",
        "                    '2020_Incidence Count',\n",
        "                     '2020_Violent Crime Rate',\n",
        "                     '2019_Violent Crime Rate',\n",
        "                    '2018_Violent Crime Rate',\n",
        "                    '2017_Violent Crime Rate',\n",
        "                     '2016_Violent Crime Rate',\n",
        "                     '2015_Violent Crime Rate',\n",
        "                     '2014_Violent Crime Rate',\n",
        "                     '2013_Violent Crime Rate',\n",
        "                    '2012_Violent Crime Rate',\n",
        "                     '2011_Violent Crime Rate']\n",
        "\n",
        "print(df1)"
      ],
      "metadata": {
        "colab": {
          "base_uri": "https://localhost:8080/"
        },
        "id": "GrbPzNbayXDP",
        "outputId": "200eb80f-2d04-49ed-bf1e-a6f61d1a7fbb"
      },
      "execution_count": null,
      "outputs": [
        {
          "output_type": "stream",
          "name": "stdout",
          "text": [
            "      State or Territory  2020_Incidence Count  2020_Violent Crime Rate  \\\n",
            "0                    NaN                   NaN                      NaN   \n",
            "1   District of Columbia                7127.0                    999.8   \n",
            "2                 Alaska                6126.0                    837.8   \n",
            "3             New Mexico               16393.0                    778.3   \n",
            "4              Tennessee               46328.0                    672.7   \n",
            "5               Arkansas               20363.0                    671.9   \n",
            "6                Arizona               35980.0                    654.8   \n",
            "7              Louisiana               29704.0                    639.4   \n",
            "8               Missouri               33385.0                    542.7   \n",
            "9         South Carolina               27691.0                    530.7   \n",
            "10          South Dakota                4476.0                    501.4   \n",
            "11              Michigan               47641.0                    478.0   \n",
            "12               Montana                5077.0                    469.8   \n",
            "13                Nevada               14445.0                    460.3   \n",
            "14              Oklahoma               18255.0                    458.6   \n",
            "15               Alabama               22322.0                    453.6   \n",
            "16                 Texas              131084.0                    446.5   \n",
            "17            California              174026.0                    442.0   \n",
            "18              Delaware                4262.0                    431.9   \n",
            "19              Illinois               53612.0                    425.9   \n",
            "20                Kansas               12835.0                    425.0   \n",
            "21              Colorado               24570.0                    423.1   \n",
            "22        North Carolina               44451.0                    419.3   \n",
            "23               Georgia               42850.0                    400.1   \n",
            "24              Maryland               24215.0                    399.9   \n",
            "25          Pennsylvania               49793.0                    389.5   \n",
            "26               Florida               83368.0                    383.6   \n",
            "27              New York               70339.0                    363.8   \n",
            "28               Indiana               24161.0                    357.7   \n",
            "29         West Virginia                6352.0                    355.9   \n",
            "30              Nebraska                6473.0                    334.1   \n",
            "31          North Dakota                2518.0                    329.0   \n",
            "32             Wisconsin               18861.0                    323.4   \n",
            "33                  Ohio               36104.0                    308.8   \n",
            "34         Massachusetts               21288.0                    308.8   \n",
            "35                  Iowa                9601.0                    303.5   \n",
            "36            Washington               22596.0                    293.7   \n",
            "37                Oregon               12380.0                    291.9   \n",
            "38           Mississippi                8638.0                    291.2   \n",
            "39             Minnesota               15698.0                    277.5   \n",
            "40                  Utah                8471.0                    260.7   \n",
            "41              Kentucky               11600.0                    259.1   \n",
            "42                Hawaii                3576.0                    254.2   \n",
            "43                 Idaho                4432.0                    242.6   \n",
            "44               Wyoming                1364.0                    234.2   \n",
            "45          Rhode Island                2440.0                    230.8   \n",
            "46              Virginia               17925.0                    208.0   \n",
            "47            New Jersey               17353.0                    195.4   \n",
            "48           Connecticut                6459.0                    181.6   \n",
            "49               Vermont                1081.0                    173.4   \n",
            "50           Puerto Rico                5196.0                    164.5   \n",
            "51         New Hampshire                2000.0                    146.4   \n",
            "52                 Maine                1466.0                    108.6   \n",
            "53         United States             1313105.0                    398.5   \n",
            "\n",
            "    2019_Violent Crime Rate  2018_Violent Crime Rate  2017_Violent Crime Rate  \\\n",
            "0                       NaN                      NaN                      NaN   \n",
            "1                    1045.2                    997.1                   1002.7   \n",
            "2                     865.0                    891.7                    856.7   \n",
            "3                     824.0                    842.8                    778.6   \n",
            "4                     598.9                    630.4                    655.0   \n",
            "5                     580.8                    561.6                    566.0   \n",
            "6                     447.1                    475.7                    505.7   \n",
            "7                     559.7                    543.3                    556.3   \n",
            "8                     499.6                    501.4                    531.2   \n",
            "9                     510.1                    500.8                    506.1   \n",
            "10                    397.1                    396.4                    429.8   \n",
            "11                    438.6                    452.5                    449.9   \n",
            "12                    417.9                    380.9                    373.9   \n",
            "13                    496.1                    552.1                    560.6   \n",
            "14                    436.3                    474.6                    457.4   \n",
            "15                    504.7                    523.1                    522.4   \n",
            "16                    421.8                    412.9                    437.8   \n",
            "17                    442.1                    447.5                    453.3   \n",
            "18                    422.7                    422.5                    457.3   \n",
            "19                    415.3                    411.4                    436.2   \n",
            "20                    405.5                    441.8                    400.4   \n",
            "21                    384.6                    401.5                    372.2   \n",
            "22                    378.7                    356.2                    370.4   \n",
            "23                    326.2                    338.9                    356.5   \n",
            "24                    454.4                    469.4                    503.3   \n",
            "25                    306.0                    305.4                    313.0   \n",
            "26                    378.2                    385.9                    408.1   \n",
            "27                    361.0                    350.8                    361.1   \n",
            "28                    371.5                    373.5                    395.0   \n",
            "29                    318.9                    299.9                    361.2   \n",
            "30                    304.6                    289.9                    311.8   \n",
            "31                    301.4                    284.1                    282.5   \n",
            "32                    297.1                    299.0                    321.8   \n",
            "33                    296.0                    294.8                    296.8   \n",
            "34                    328.7                    340.3                    354.3   \n",
            "35                    287.6                    263.7                    287.5   \n",
            "36                    303.3                    315.3                    302.8   \n",
            "37                    293.7                    290.4                    280.4   \n",
            "38                    261.2                    266.0                    256.2   \n",
            "39                    237.5                    221.2                    239.7   \n",
            "40                    236.9                    239.4                    242.2   \n",
            "41                    220.7                    217.9                    231.1   \n",
            "42                    264.5                    255.0                    251.2   \n",
            "43                    232.6                    239.7                    239.2   \n",
            "44                    215.0                    213.8                    234.6   \n",
            "45                    222.7                    219.8                    234.2   \n",
            "46                    209.4                    204.2                    210.4   \n",
            "47                    206.7                    208.6                    231.8   \n",
            "48                    184.6                    209.6                    229.2   \n",
            "49                    207.2                    185.0                    173.3   \n",
            "50                    202.9                    200.9                    232.6   \n",
            "51                    158.1                    177.6                    195.7   \n",
            "52                    116.1                    112.0                    120.6   \n",
            "53                    379.4                    383.4                    394.0   \n",
            "\n",
            "    2016_Violent Crime Rate  2015_Violent Crime Rate  2014_Violent Crime Rate  \\\n",
            "0                       NaN                      NaN                      NaN   \n",
            "1                    1203.5                   1269.1                   1242.6   \n",
            "2                     804.6                    730.2                    635.5   \n",
            "3                     699.4                    656.1                    597.7   \n",
            "4                     638.5                    612.1                    610.7   \n",
            "5                     554.3                    521.3                    480.2   \n",
            "6                     471.0                    410.2                    392.7   \n",
            "7                     565.0                    539.7                    515.9   \n",
            "8                     520.8                    497.4                    443.3   \n",
            "9                     506.8                    504.5                    497.8   \n",
            "10                    422.0                    383.1                    328.3   \n",
            "11                    460.9                    415.5                    429.1   \n",
            "12                    374.1                    349.6                    328.5   \n",
            "13                    677.9                    695.9                    635.7   \n",
            "14                    455.3                    422.0                    413.8   \n",
            "15                    532.4                    472.4                    427.7   \n",
            "16                    433.8                    412.2                    406.7   \n",
            "17                    444.8                    426.3                    396.4   \n",
            "18                    510.0                    499.0                    488.1   \n",
            "19                    436.7                    383.8                    370.9   \n",
            "20                    401.2                    389.9                    352.6   \n",
            "21                    344.1                    321.0                    307.8   \n",
            "22                    371.8                    347.0                    329.1   \n",
            "23                    390.4                    378.3                    385.8   \n",
            "24                    481.7                    457.2                    448.0   \n",
            "25                    315.9                    315.1                    315.0   \n",
            "26                    429.4                    461.9                    458.9   \n",
            "27                    374.6                    379.7                    384.7   \n",
            "28                    399.7                    387.5                    365.3   \n",
            "29                    362.7                    337.9                    316.4   \n",
            "30                    296.8                    274.9                    276.2   \n",
            "31                    252.1                    239.4                    270.4   \n",
            "32                    306.9                    305.8                    291.1   \n",
            "33                    307.7                    291.9                    285.7   \n",
            "34                    380.7                    390.9                    395.1   \n",
            "35                    292.9                    286.1                    272.8   \n",
            "36                    303.5                    284.4                    285.8   \n",
            "37                    268.8                    259.8                    259.2   \n",
            "38                    281.7                    275.8                    278.3   \n",
            "39                    241.9                    242.6                    229.1   \n",
            "40                    243.3                    236.0                    219.5   \n",
            "41                    235.6                    218.7                    215.2   \n",
            "42                    241.6                    293.4                    236.7   \n",
            "43                    230.7                    215.6                    210.4   \n",
            "44                    244.7                    222.1                    195.4   \n",
            "45                    239.1                    242.5                    219.9   \n",
            "46                    219.8                    195.6                    198.4   \n",
            "47                    243.5                    255.4                    260.9   \n",
            "48                    227.7                    218.5                    238.5   \n",
            "49                    136.5                    118.0                    102.6   \n",
            "50                    224.4                    219.6                    237.2   \n",
            "51                    199.8                    199.3                    197.7   \n",
            "52                    124.0                    130.1                    127.6   \n",
            "53                    397.5                    383.2                    372.0   \n",
            "\n",
            "    2013_Violent Crime Rate  2012_Violent Crime Rate  2011_Violent Crime Rate  \n",
            "0                       NaN                      NaN                      NaN  \n",
            "1                    1281.9                   1241.8                   1202.1  \n",
            "2                     602.6                    604.1                    606.5  \n",
            "3                     596.7                    559.6                    567.5  \n",
            "4                     579.7                    638.5                    608.2  \n",
            "5                     445.7                    469.6                    480.9  \n",
            "6                     405.8                    428.6                    405.9  \n",
            "7                     510.4                    496.3                    555.3  \n",
            "8                     422.0                    451.3                    447.4  \n",
            "9                     494.8                    560.5                    571.9  \n",
            "10                    398.7                    323.8                    354.1  \n",
            "11                    429.8                    455.0                    453.0  \n",
            "12                    240.7                    278.8                    267.5  \n",
            "13                    591.2                    608.6                    562.1  \n",
            "14                    428.1                    474.4                    454.8  \n",
            "15                    418.1                    450.3                    420.1  \n",
            "16                    399.8                    408.6                    408.5  \n",
            "17                    396.2                    423.5                    411.1  \n",
            "18                    479.1                    550.5                    559.5  \n",
            "19                    372.5                    416.2                    424.0  \n",
            "20                    327.5                    356.7                    353.9  \n",
            "21                    291.2                    307.4                    320.2  \n",
            "22                    336.6                    353.5                    349.8  \n",
            "23                    359.7                    380.0                    373.2  \n",
            "24                    467.8                    477.3                    494.1  \n",
            "25                    326.6                    355.5                    355.0  \n",
            "26                    460.0                    487.0                    515.3  \n",
            "27                    389.8                    406.3                    398.1  \n",
            "28                    349.9                    344.8                    331.8  \n",
            "29                    289.7                    320.1                    315.9  \n",
            "30                    252.2                    258.8                    253.2  \n",
            "31                    256.3                    245.7                    247.0  \n",
            "32                    271.1                    283.9                    236.9  \n",
            "33                    275.7                    301.5                    307.4  \n",
            "34                    404.0                    407.0                    428.4  \n",
            "35                    260.9                    265.6                    255.6  \n",
            "36                    277.9                    298.1                    294.6  \n",
            "37                    242.9                    247.1                    247.6  \n",
            "38                    267.4                    260.1                    269.8  \n",
            "39                    223.2                    230.9                    221.2  \n",
            "40                    209.2                    208.0                    195.0  \n",
            "41                    198.8                    224.9                    238.2  \n",
            "42                    245.3                    243.0                    287.2  \n",
            "43                    204.7                    209.8                    200.9  \n",
            "44                    197.7                    201.3                    219.3  \n",
            "45                    244.6                    253.0                    247.5  \n",
            "46                    187.9                    191.5                    196.7  \n",
            "47                    285.6                    290.1                    308.4  \n",
            "48                    254.5                    283.5                    272.8  \n",
            "49                    114.9                    142.3                    135.2  \n",
            "50                    257.8                    275.0                    284.4  \n",
            "51                    199.6                    215.0                    188.0  \n",
            "52                    121.6                    122.4                    123.2  \n",
            "53                    367.9                    387.8                    386.3  \n"
          ]
        }
      ]
    },
    {
      "cell_type": "markdown",
      "source": [
        "# Q2. What is the shape of the dataframe?\n",
        "State the number of rows and number of columns."
      ],
      "metadata": {
        "id": "5pyFylc4wBPx"
      }
    },
    {
      "cell_type": "code",
      "source": [
        "print('The number of rows and columns of the dataframe:')\n",
        "df1.shape   #using shape method will defines the no.of rows and columns of the dataframe\n"
      ],
      "metadata": {
        "id": "98GKEDubwJrS",
        "colab": {
          "base_uri": "https://localhost:8080/"
        },
        "outputId": "c6fe3bac-dfee-4608-8764-d08981fae7ab"
      },
      "execution_count": null,
      "outputs": [
        {
          "output_type": "stream",
          "name": "stdout",
          "text": [
            "The number of rows and columns of the dataframe:\n"
          ]
        },
        {
          "output_type": "execute_result",
          "data": {
            "text/plain": [
              "(54, 12)"
            ]
          },
          "metadata": {},
          "execution_count": 139
        }
      ]
    },
    {
      "cell_type": "markdown",
      "source": [
        "# Q3. Count the number of missing values per column, then print a list of unique values for the State/territory column."
      ],
      "metadata": {
        "id": "X-TV0JdTwI01"
      }
    },
    {
      "cell_type": "markdown",
      "source": [
        "Read this:\n",
        "* https://stackoverflow.com/questions/13413590/how-to-drop-rows-of-pandas-dataframe-whose-value-in-a-certain-column-is-nan\n",
        "\n",
        "Now drop any rows where the 'State or Territory' column is nan."
      ],
      "metadata": {
        "id": "TYse5qDhxdSa"
      }
    },
    {
      "cell_type": "code",
      "source": [],
      "metadata": {
        "id": "NIbsQJL9_84f"
      },
      "execution_count": null,
      "outputs": []
    },
    {
      "cell_type": "code",
      "source": [
        "print(df1.isnull().sum()) #print the number of null values in the dataframe df1\n",
        "df1 = df1.dropna() #drop any rows of df1 with null values\n",
        "print(list(set(df1['State or Territory']))) #print a list of the unique values in the 'State or Territory' column of df1"
      ],
      "metadata": {
        "id": "nNe6t-8ivdnO",
        "colab": {
          "base_uri": "https://localhost:8080/"
        },
        "outputId": "130aebff-b6a2-4abf-e28f-c6fce1dbf0d2"
      },
      "execution_count": null,
      "outputs": [
        {
          "output_type": "stream",
          "name": "stdout",
          "text": [
            "State or Territory         1\n",
            "2020_Incidence Count       1\n",
            "2020_Violent Crime Rate    1\n",
            "2019_Violent Crime Rate    1\n",
            "2018_Violent Crime Rate    1\n",
            "2017_Violent Crime Rate    1\n",
            "2016_Violent Crime Rate    1\n",
            "2015_Violent Crime Rate    1\n",
            "2014_Violent Crime Rate    1\n",
            "2013_Violent Crime Rate    1\n",
            "2012_Violent Crime Rate    1\n",
            "2011_Violent Crime Rate    1\n",
            "dtype: int64\n",
            "['Alabama', 'Virginia', 'Missouri', 'Maine', 'Indiana', 'Ohio', 'United States', 'Wyoming', 'Michigan', 'Delaware', 'Louisiana', 'Kentucky', 'New Jersey', 'Florida', 'Iowa', 'West Virginia', 'Montana', 'Texas', 'Alaska', 'South Carolina', 'Hawaii', 'Maryland', 'Nebraska', 'Tennessee', 'Utah', 'New York', 'Minnesota', 'Colorado', 'Kansas', 'Georgia', 'California', 'Oregon', 'District of Columbia', 'Rhode Island', 'Wisconsin', 'Puerto Rico', 'Vermont', 'Nevada', 'Washington', 'Massachusetts', 'Arkansas', 'Pennsylvania', 'North Dakota', 'New Hampshire', 'South Dakota', 'Oklahoma', 'Illinois', 'North Carolina', 'Idaho', 'Mississippi', 'Arizona', 'New Mexico', 'Connecticut']\n"
          ]
        }
      ]
    },
    {
      "cell_type": "markdown",
      "source": [
        "Read this:\n",
        "* https://stackoverflow.com/questions/19960077/how-to-filter-pandas-dataframe-using-in-and-not-in-like-in-sql\n",
        "\n",
        "Now drop values where this column is equal to District of Columbia, United States or Puerto Rico. How many rows do you have now?"
      ],
      "metadata": {
        "id": "2cQSFiAUwW13"
      }
    },
    {
      "cell_type": "code",
      "source": [
        "# This code creates a subset of the data frame df1 by removing all rows that have a value of 'District of Columbia', 'United States' or 'Puerto Rico' in the 'State or Territory' column.\n",
        "#The new data frame is then printed and its shape is printed.\n",
        "list1 = ['District of Columbia', 'United States', 'Puerto Rico']\n",
        "df1 = df1[df1['State or Territory'].isin(list1) == False ]\n",
        "print(df1)\n",
        "df1.shape"
      ],
      "metadata": {
        "id": "T41i7UoMxA_Y",
        "colab": {
          "base_uri": "https://localhost:8080/"
        },
        "outputId": "7b8d0037-e09c-477a-945e-73bf3109e761"
      },
      "execution_count": null,
      "outputs": [
        {
          "output_type": "stream",
          "name": "stdout",
          "text": [
            "   State or Territory  2020_Incidence Count  2020_Violent Crime Rate  \\\n",
            "2              Alaska                6126.0                    837.8   \n",
            "3          New Mexico               16393.0                    778.3   \n",
            "4           Tennessee               46328.0                    672.7   \n",
            "5            Arkansas               20363.0                    671.9   \n",
            "6             Arizona               35980.0                    654.8   \n",
            "7           Louisiana               29704.0                    639.4   \n",
            "8            Missouri               33385.0                    542.7   \n",
            "9      South Carolina               27691.0                    530.7   \n",
            "10       South Dakota                4476.0                    501.4   \n",
            "11           Michigan               47641.0                    478.0   \n",
            "12            Montana                5077.0                    469.8   \n",
            "13             Nevada               14445.0                    460.3   \n",
            "14           Oklahoma               18255.0                    458.6   \n",
            "15            Alabama               22322.0                    453.6   \n",
            "16              Texas              131084.0                    446.5   \n",
            "17         California              174026.0                    442.0   \n",
            "18           Delaware                4262.0                    431.9   \n",
            "19           Illinois               53612.0                    425.9   \n",
            "20             Kansas               12835.0                    425.0   \n",
            "21           Colorado               24570.0                    423.1   \n",
            "22     North Carolina               44451.0                    419.3   \n",
            "23            Georgia               42850.0                    400.1   \n",
            "24           Maryland               24215.0                    399.9   \n",
            "25       Pennsylvania               49793.0                    389.5   \n",
            "26            Florida               83368.0                    383.6   \n",
            "27           New York               70339.0                    363.8   \n",
            "28            Indiana               24161.0                    357.7   \n",
            "29      West Virginia                6352.0                    355.9   \n",
            "30           Nebraska                6473.0                    334.1   \n",
            "31       North Dakota                2518.0                    329.0   \n",
            "32          Wisconsin               18861.0                    323.4   \n",
            "33               Ohio               36104.0                    308.8   \n",
            "34      Massachusetts               21288.0                    308.8   \n",
            "35               Iowa                9601.0                    303.5   \n",
            "36         Washington               22596.0                    293.7   \n",
            "37             Oregon               12380.0                    291.9   \n",
            "38        Mississippi                8638.0                    291.2   \n",
            "39          Minnesota               15698.0                    277.5   \n",
            "40               Utah                8471.0                    260.7   \n",
            "41           Kentucky               11600.0                    259.1   \n",
            "42             Hawaii                3576.0                    254.2   \n",
            "43              Idaho                4432.0                    242.6   \n",
            "44            Wyoming                1364.0                    234.2   \n",
            "45       Rhode Island                2440.0                    230.8   \n",
            "46           Virginia               17925.0                    208.0   \n",
            "47         New Jersey               17353.0                    195.4   \n",
            "48        Connecticut                6459.0                    181.6   \n",
            "49            Vermont                1081.0                    173.4   \n",
            "51      New Hampshire                2000.0                    146.4   \n",
            "52              Maine                1466.0                    108.6   \n",
            "\n",
            "    2019_Violent Crime Rate  2018_Violent Crime Rate  2017_Violent Crime Rate  \\\n",
            "2                     865.0                    891.7                    856.7   \n",
            "3                     824.0                    842.8                    778.6   \n",
            "4                     598.9                    630.4                    655.0   \n",
            "5                     580.8                    561.6                    566.0   \n",
            "6                     447.1                    475.7                    505.7   \n",
            "7                     559.7                    543.3                    556.3   \n",
            "8                     499.6                    501.4                    531.2   \n",
            "9                     510.1                    500.8                    506.1   \n",
            "10                    397.1                    396.4                    429.8   \n",
            "11                    438.6                    452.5                    449.9   \n",
            "12                    417.9                    380.9                    373.9   \n",
            "13                    496.1                    552.1                    560.6   \n",
            "14                    436.3                    474.6                    457.4   \n",
            "15                    504.7                    523.1                    522.4   \n",
            "16                    421.8                    412.9                    437.8   \n",
            "17                    442.1                    447.5                    453.3   \n",
            "18                    422.7                    422.5                    457.3   \n",
            "19                    415.3                    411.4                    436.2   \n",
            "20                    405.5                    441.8                    400.4   \n",
            "21                    384.6                    401.5                    372.2   \n",
            "22                    378.7                    356.2                    370.4   \n",
            "23                    326.2                    338.9                    356.5   \n",
            "24                    454.4                    469.4                    503.3   \n",
            "25                    306.0                    305.4                    313.0   \n",
            "26                    378.2                    385.9                    408.1   \n",
            "27                    361.0                    350.8                    361.1   \n",
            "28                    371.5                    373.5                    395.0   \n",
            "29                    318.9                    299.9                    361.2   \n",
            "30                    304.6                    289.9                    311.8   \n",
            "31                    301.4                    284.1                    282.5   \n",
            "32                    297.1                    299.0                    321.8   \n",
            "33                    296.0                    294.8                    296.8   \n",
            "34                    328.7                    340.3                    354.3   \n",
            "35                    287.6                    263.7                    287.5   \n",
            "36                    303.3                    315.3                    302.8   \n",
            "37                    293.7                    290.4                    280.4   \n",
            "38                    261.2                    266.0                    256.2   \n",
            "39                    237.5                    221.2                    239.7   \n",
            "40                    236.9                    239.4                    242.2   \n",
            "41                    220.7                    217.9                    231.1   \n",
            "42                    264.5                    255.0                    251.2   \n",
            "43                    232.6                    239.7                    239.2   \n",
            "44                    215.0                    213.8                    234.6   \n",
            "45                    222.7                    219.8                    234.2   \n",
            "46                    209.4                    204.2                    210.4   \n",
            "47                    206.7                    208.6                    231.8   \n",
            "48                    184.6                    209.6                    229.2   \n",
            "49                    207.2                    185.0                    173.3   \n",
            "51                    158.1                    177.6                    195.7   \n",
            "52                    116.1                    112.0                    120.6   \n",
            "\n",
            "    2016_Violent Crime Rate  2015_Violent Crime Rate  2014_Violent Crime Rate  \\\n",
            "2                     804.6                    730.2                    635.5   \n",
            "3                     699.4                    656.1                    597.7   \n",
            "4                     638.5                    612.1                    610.7   \n",
            "5                     554.3                    521.3                    480.2   \n",
            "6                     471.0                    410.2                    392.7   \n",
            "7                     565.0                    539.7                    515.9   \n",
            "8                     520.8                    497.4                    443.3   \n",
            "9                     506.8                    504.5                    497.8   \n",
            "10                    422.0                    383.1                    328.3   \n",
            "11                    460.9                    415.5                    429.1   \n",
            "12                    374.1                    349.6                    328.5   \n",
            "13                    677.9                    695.9                    635.7   \n",
            "14                    455.3                    422.0                    413.8   \n",
            "15                    532.4                    472.4                    427.7   \n",
            "16                    433.8                    412.2                    406.7   \n",
            "17                    444.8                    426.3                    396.4   \n",
            "18                    510.0                    499.0                    488.1   \n",
            "19                    436.7                    383.8                    370.9   \n",
            "20                    401.2                    389.9                    352.6   \n",
            "21                    344.1                    321.0                    307.8   \n",
            "22                    371.8                    347.0                    329.1   \n",
            "23                    390.4                    378.3                    385.8   \n",
            "24                    481.7                    457.2                    448.0   \n",
            "25                    315.9                    315.1                    315.0   \n",
            "26                    429.4                    461.9                    458.9   \n",
            "27                    374.6                    379.7                    384.7   \n",
            "28                    399.7                    387.5                    365.3   \n",
            "29                    362.7                    337.9                    316.4   \n",
            "30                    296.8                    274.9                    276.2   \n",
            "31                    252.1                    239.4                    270.4   \n",
            "32                    306.9                    305.8                    291.1   \n",
            "33                    307.7                    291.9                    285.7   \n",
            "34                    380.7                    390.9                    395.1   \n",
            "35                    292.9                    286.1                    272.8   \n",
            "36                    303.5                    284.4                    285.8   \n",
            "37                    268.8                    259.8                    259.2   \n",
            "38                    281.7                    275.8                    278.3   \n",
            "39                    241.9                    242.6                    229.1   \n",
            "40                    243.3                    236.0                    219.5   \n",
            "41                    235.6                    218.7                    215.2   \n",
            "42                    241.6                    293.4                    236.7   \n",
            "43                    230.7                    215.6                    210.4   \n",
            "44                    244.7                    222.1                    195.4   \n",
            "45                    239.1                    242.5                    219.9   \n",
            "46                    219.8                    195.6                    198.4   \n",
            "47                    243.5                    255.4                    260.9   \n",
            "48                    227.7                    218.5                    238.5   \n",
            "49                    136.5                    118.0                    102.6   \n",
            "51                    199.8                    199.3                    197.7   \n",
            "52                    124.0                    130.1                    127.6   \n",
            "\n",
            "    2013_Violent Crime Rate  2012_Violent Crime Rate  2011_Violent Crime Rate  \n",
            "2                     602.6                    604.1                    606.5  \n",
            "3                     596.7                    559.6                    567.5  \n",
            "4                     579.7                    638.5                    608.2  \n",
            "5                     445.7                    469.6                    480.9  \n",
            "6                     405.8                    428.6                    405.9  \n",
            "7                     510.4                    496.3                    555.3  \n",
            "8                     422.0                    451.3                    447.4  \n",
            "9                     494.8                    560.5                    571.9  \n",
            "10                    398.7                    323.8                    354.1  \n",
            "11                    429.8                    455.0                    453.0  \n",
            "12                    240.7                    278.8                    267.5  \n",
            "13                    591.2                    608.6                    562.1  \n",
            "14                    428.1                    474.4                    454.8  \n",
            "15                    418.1                    450.3                    420.1  \n",
            "16                    399.8                    408.6                    408.5  \n",
            "17                    396.2                    423.5                    411.1  \n",
            "18                    479.1                    550.5                    559.5  \n",
            "19                    372.5                    416.2                    424.0  \n",
            "20                    327.5                    356.7                    353.9  \n",
            "21                    291.2                    307.4                    320.2  \n",
            "22                    336.6                    353.5                    349.8  \n",
            "23                    359.7                    380.0                    373.2  \n",
            "24                    467.8                    477.3                    494.1  \n",
            "25                    326.6                    355.5                    355.0  \n",
            "26                    460.0                    487.0                    515.3  \n",
            "27                    389.8                    406.3                    398.1  \n",
            "28                    349.9                    344.8                    331.8  \n",
            "29                    289.7                    320.1                    315.9  \n",
            "30                    252.2                    258.8                    253.2  \n",
            "31                    256.3                    245.7                    247.0  \n",
            "32                    271.1                    283.9                    236.9  \n",
            "33                    275.7                    301.5                    307.4  \n",
            "34                    404.0                    407.0                    428.4  \n",
            "35                    260.9                    265.6                    255.6  \n",
            "36                    277.9                    298.1                    294.6  \n",
            "37                    242.9                    247.1                    247.6  \n",
            "38                    267.4                    260.1                    269.8  \n",
            "39                    223.2                    230.9                    221.2  \n",
            "40                    209.2                    208.0                    195.0  \n",
            "41                    198.8                    224.9                    238.2  \n",
            "42                    245.3                    243.0                    287.2  \n",
            "43                    204.7                    209.8                    200.9  \n",
            "44                    197.7                    201.3                    219.3  \n",
            "45                    244.6                    253.0                    247.5  \n",
            "46                    187.9                    191.5                    196.7  \n",
            "47                    285.6                    290.1                    308.4  \n",
            "48                    254.5                    283.5                    272.8  \n",
            "49                    114.9                    142.3                    135.2  \n",
            "51                    199.6                    215.0                    188.0  \n",
            "52                    121.6                    122.4                    123.2  \n"
          ]
        },
        {
          "output_type": "execute_result",
          "data": {
            "text/plain": [
              "(50, 12)"
            ]
          },
          "metadata": {},
          "execution_count": 141
        }
      ]
    },
    {
      "cell_type": "code",
      "source": [
        "print('The number of rows and columns of the dataframe after dropping values:')\n",
        "df1.shape #The no.of rows and columns after dropping values"
      ],
      "metadata": {
        "colab": {
          "base_uri": "https://localhost:8080/"
        },
        "id": "1BKEBY7nNa22",
        "outputId": "79f7f39e-e6fd-4c6b-a018-8359c1210591"
      },
      "execution_count": null,
      "outputs": [
        {
          "output_type": "stream",
          "name": "stdout",
          "text": [
            "The number of rows and columns of the dataframe after dropping values:\n"
          ]
        },
        {
          "output_type": "execute_result",
          "data": {
            "text/plain": [
              "(50, 12)"
            ]
          },
          "metadata": {},
          "execution_count": 142
        }
      ]
    },
    {
      "cell_type": "markdown",
      "source": [
        "# Q4. Which State had the highest and lowest crime rate in 2020?"
      ],
      "metadata": {
        "id": "7TjJFZplzotN"
      }
    },
    {
      "cell_type": "markdown",
      "source": [
        "You can either sort by high and low to show the tail, or you can select the row where the min and max 2020 rates exist. Do not just print the value of the min and max!"
      ],
      "metadata": {
        "id": "q2Csz0WulXDh"
      }
    },
    {
      "cell_type": "code",
      "source": [
        "#This code sorts the '2020_Violent Crime Rate' column in a dataframe (df1) in descending order and then prints the string 'The state which had the highest crime rate in 2020 is' followed by the first row in the 'State or Territory' column.\n",
        "df2 = df1.sort_values(by = ['2020_Violent Crime Rate'], ascending = False)\n",
        "print(\"The state which had the highest crime rate in 2020 is :\", df1['State or Territory'].iloc[0])"
      ],
      "metadata": {
        "colab": {
          "base_uri": "https://localhost:8080/"
        },
        "id": "_Qo0XpXhNIPb",
        "outputId": "d0a663f8-5e99-47d5-9e1f-c9337823e334"
      },
      "execution_count": null,
      "outputs": [
        {
          "output_type": "stream",
          "name": "stdout",
          "text": [
            "The state which had the highest crime rate in 2020 is : Alaska\n"
          ]
        }
      ]
    },
    {
      "cell_type": "code",
      "source": [
        "#This code sorts the data in the dataframe df1 by 2020_Violent Crime Rate and stores it in df3. Then it prints the state or territory with the lowest crime rate in 2020 by accessing the last row of df2, which is sorted by 2020_Violent Crime Rate.\n",
        "df3 = df1.sort_values(by = ['2020_Violent Crime Rate'])\n",
        "print(\"The state which had the lowest crime rate in 2020 is :\", df2['State or Territory'].iloc[-1])\n"
      ],
      "metadata": {
        "colab": {
          "base_uri": "https://localhost:8080/"
        },
        "id": "OGvGNSA0m52m",
        "outputId": "b0c83f5d-0ddb-447f-9427-ae8a4c5faf3e"
      },
      "execution_count": null,
      "outputs": [
        {
          "output_type": "stream",
          "name": "stdout",
          "text": [
            "The state which had the lowest crime rate in 2020 is : Maine\n"
          ]
        }
      ]
    },
    {
      "cell_type": "markdown",
      "source": [
        "# Q5. Make a line plot that shows the trend of violent crime in Alaska.\n",
        "One plot for each State. X = year and Y = violent crime. Have nice titles, axes and a unique color for each plot. Note that this question probably requires you to take the transpose or to create a pivot table (your choice.)"
      ],
      "metadata": {
        "id": "7ISys26QnsFK"
      }
    },
    {
      "cell_type": "code",
      "source": [
        "\n",
        "#This code selects only the rows that refer to Alaska from the DataFrame df1. It then removes the columns '2020_Incidence Count' and 'State or Territory' and renames the remaining columns with years. Finally, it prints the new DataFrame df_alaska.\n",
        "from pandas.tseries.offsets import YearBegin\n",
        "df_alaska = df1.loc[df1['State or Territory'] == 'Alaska']\n",
        "df_alaska = df_alaska.drop(['2020_Incidence Count'], axis = 1)\n",
        "df_alaska = df_alaska.drop(['State or Territory'],\n",
        "                           axis = 1)\n",
        "df_alaska.columns = ['2020 Violent Crime Rate',\n",
        "                     '2019 Violent Crime Rate',\n",
        "                    '2018 Violent Crime Rate',\n",
        "                    '2017 Violent Crime Rate',\n",
        "                     '2016 Violent Crime Rate',\n",
        "                     '2015 Violent Crime Rate',\n",
        "                     '2014 Violent Crime Rate',\n",
        "                     '2013 Violent Crime Rate',\n",
        "                    '2012 Violent Crime Rate',\n",
        "                     '2011 Violent Crime Rate']\n",
        "print(df_alaska)"
      ],
      "metadata": {
        "colab": {
          "base_uri": "https://localhost:8080/"
        },
        "id": "yUvtdVaTpdCn",
        "outputId": "d3a115f5-b0be-41d6-9704-d20d2b6f5cab"
      },
      "execution_count": null,
      "outputs": [
        {
          "output_type": "stream",
          "name": "stdout",
          "text": [
            "   2020 Violent Crime Rate  2019 Violent Crime Rate  2018 Violent Crime Rate  \\\n",
            "2                    837.8                    865.0                    891.7   \n",
            "\n",
            "   2017 Violent Crime Rate  2016 Violent Crime Rate  2015 Violent Crime Rate  \\\n",
            "2                    856.7                    804.6                    730.2   \n",
            "\n",
            "   2014 Violent Crime Rate  2013 Violent Crime Rate  2012 Violent Crime Rate  \\\n",
            "2                    635.5                    602.6                    604.1   \n",
            "\n",
            "   2011 Violent Crime Rate  \n",
            "2                    606.5  \n"
          ]
        }
      ]
    },
    {
      "cell_type": "code",
      "source": [
        "df_alaska = df_alaska.transpose() #Transposed values present in df_alaska\n",
        "print(df_alaska)"
      ],
      "metadata": {
        "colab": {
          "base_uri": "https://localhost:8080/"
        },
        "id": "eMa7HBATR2a9",
        "outputId": "e188d33a-2634-4a57-d5e4-993b5ca70848"
      },
      "execution_count": null,
      "outputs": [
        {
          "output_type": "stream",
          "name": "stdout",
          "text": [
            "                             2\n",
            "2020 Violent Crime Rate  837.8\n",
            "2019 Violent Crime Rate  865.0\n",
            "2018 Violent Crime Rate  891.7\n",
            "2017 Violent Crime Rate  856.7\n",
            "2016 Violent Crime Rate  804.6\n",
            "2015 Violent Crime Rate  730.2\n",
            "2014 Violent Crime Rate  635.5\n",
            "2013 Violent Crime Rate  602.6\n",
            "2012 Violent Crime Rate  604.1\n",
            "2011 Violent Crime Rate  606.5\n"
          ]
        }
      ]
    },
    {
      "cell_type": "code",
      "source": [
        "#This code changes the name of the column to \"Violent Crime Rate\" and reverses the order of the rows in the dataframe. The new dataframe is then printed.\n",
        "df_alaska.columns = ['Violent Crime Rate']\n",
        "df_alaska = df_alaska.iloc[::-1]\n",
        "print(df_alaska)"
      ],
      "metadata": {
        "colab": {
          "base_uri": "https://localhost:8080/"
        },
        "id": "nRTftMEIccCX",
        "outputId": "386c2186-1244-42eb-a12c-8fbefb66d622"
      },
      "execution_count": null,
      "outputs": [
        {
          "output_type": "stream",
          "name": "stdout",
          "text": [
            "                         Violent Crime Rate\n",
            "2011 Violent Crime Rate               606.5\n",
            "2012 Violent Crime Rate               604.1\n",
            "2013 Violent Crime Rate               602.6\n",
            "2014 Violent Crime Rate               635.5\n",
            "2015 Violent Crime Rate               730.2\n",
            "2016 Violent Crime Rate               804.6\n",
            "2017 Violent Crime Rate               856.7\n",
            "2018 Violent Crime Rate               891.7\n",
            "2019 Violent Crime Rate               865.0\n",
            "2020 Violent Crime Rate               837.8\n"
          ]
        }
      ]
    },
    {
      "cell_type": "code",
      "source": [
        "fig = plt.figure(figsize =(10, 7)) #This code creates a 10x7 figure and plots the 'Violent Crime Rate' column from the df_alaska dataframe.\n",
        "plt.plot(df_alaska['Violent Crime Rate'])\n",
        "plt.title('Violent Crime Rate for Alaska vs. Time') #The title of the plot is set to 'Violent Crime Rate for Alaska vs. Time'.\n",
        "plt.legend(['Violent Crime Rate']) #And a legend is added with the label 'Violent Crime Rate'.\n",
        "plt.xticks(rotation=45) #The x-axis labels are rotated 45 degrees.\n",
        "plt.show()\n"
      ],
      "metadata": {
        "id": "RowP4f5edof4",
        "colab": {
          "base_uri": "https://localhost:8080/",
          "height": 528
        },
        "outputId": "dc68f16a-d080-4f51-eac9-49828c79d658"
      },
      "execution_count": null,
      "outputs": [
        {
          "output_type": "display_data",
          "data": {
            "text/plain": [
              "<Figure size 720x504 with 1 Axes>"
            ],
            "image/png": "[encoded data removed]"
          },
          "metadata": {
            "needs_background": "light"
          }
        }
      ]
    },
    {
      "cell_type": "markdown",
      "source": [
        "Students may opt to make a new column for Year, or they can use a long column name so long as data doesn't overlap on the X axis."
      ],
      "metadata": {
        "id": "iZVde9NSqHq9"
      }
    },
    {
      "cell_type": "markdown",
      "source": [
        "# Q6. Which States had crime rates go down in 2020 vs. 2019?"
      ],
      "metadata": {
        "id": "krOBDbWCz1V1"
      }
    },
    {
      "cell_type": "markdown",
      "source": [
        "Print the unique values in the State column after you do your subset."
      ],
      "metadata": {
        "id": "TeBsRGlfvw-1"
      }
    },
    {
      "cell_type": "code",
      "source": [
        "\n",
        "# This code creates a new column in the dataframe df1 called 'CR_2020vs2019' which takes the boolean value of whether the 2020_Violent Crime Rate is lower than the 2019_Violent Crime Rate.\n",
        "# Then it prints out the State or Territory names of the rows where the CR_2020vs2019 boolean value is True.\n",
        "print('The states undergone Crime rate (2020 vs 2019) are:')\n",
        "df1['CR_2020vs2019'] = df1['2020_Violent Crime Rate'] < df1['2019_Violent Crime Rate']\n",
        "print(df1.loc[df1['CR_2020vs2019'] == True, \"State or Territory\"])"
      ],
      "metadata": {
        "id": "6_00QER6fTIp",
        "colab": {
          "base_uri": "https://localhost:8080/"
        },
        "outputId": "bb0d5afc-87cb-48b2-8fb3-9f2d2c78cc28"
      },
      "execution_count": null,
      "outputs": [
        {
          "output_type": "stream",
          "name": "stdout",
          "text": [
            "The states undergone Crime rate (2020 vs 2019) are:\n",
            "2            Alaska\n",
            "3        New Mexico\n",
            "13           Nevada\n",
            "15          Alabama\n",
            "17       California\n",
            "24         Maryland\n",
            "28          Indiana\n",
            "34    Massachusetts\n",
            "36       Washington\n",
            "37           Oregon\n",
            "42           Hawaii\n",
            "46         Virginia\n",
            "47       New Jersey\n",
            "48      Connecticut\n",
            "49          Vermont\n",
            "51    New Hampshire\n",
            "52            Maine\n",
            "Name: State or Territory, dtype: object\n"
          ]
        }
      ]
    },
    {
      "cell_type": "markdown",
      "source": [
        "\n",
        "\n",
        "# Q7. Compute the raw change between 2020 and 2019 for all States and print summary statistics.\n",
        "This one should have the raw units of Y - add a text cell and describe what you see in the summary statistics output."
      ],
      "metadata": {
        "id": "MaIfajKyz7y8"
      }
    },
    {
      "cell_type": "code",
      "source": [
        "df_raw_change = (df1['2020_Violent Crime Rate']-df1['2019_Violent Crime Rate']) #This line calculates the raw change in violent crime rate between 2020 and 2019 of all states.\n",
        "print('The raw change in Violent crime rate between 2020 & 2019 of all states:')\n",
        "print(df_raw_change)\n"
      ],
      "metadata": {
        "id": "Y9VbS2Q9v5d3",
        "colab": {
          "base_uri": "https://localhost:8080/"
        },
        "outputId": "021c6354-66a2-460c-cd24-326b358f44c8"
      },
      "execution_count": null,
      "outputs": [
        {
          "output_type": "stream",
          "name": "stdout",
          "text": [
            "The raw change in Violent crime rate between 2020 & 2019 of all states:\n",
            "2     -27.2\n",
            "3     -45.7\n",
            "4      73.8\n",
            "5      91.1\n",
            "6     207.7\n",
            "7      79.7\n",
            "8      43.1\n",
            "9      20.6\n",
            "10    104.3\n",
            "11     39.4\n",
            "12     51.9\n",
            "13    -35.8\n",
            "14     22.3\n",
            "15    -51.1\n",
            "16     24.7\n",
            "17     -0.1\n",
            "18      9.2\n",
            "19     10.6\n",
            "20     19.5\n",
            "21     38.5\n",
            "22     40.6\n",
            "23     73.9\n",
            "24    -54.5\n",
            "25     83.5\n",
            "26      5.4\n",
            "27      2.8\n",
            "28    -13.8\n",
            "29     37.0\n",
            "30     29.5\n",
            "31     27.6\n",
            "32     26.3\n",
            "33     12.8\n",
            "34    -19.9\n",
            "35     15.9\n",
            "36     -9.6\n",
            "37     -1.8\n",
            "38     30.0\n",
            "39     40.0\n",
            "40     23.8\n",
            "41     38.4\n",
            "42    -10.3\n",
            "43     10.0\n",
            "44     19.2\n",
            "45      8.1\n",
            "46     -1.4\n",
            "47    -11.3\n",
            "48     -3.0\n",
            "49    -33.8\n",
            "51    -11.7\n",
            "52     -7.5\n",
            "dtype: float64\n"
          ]
        }
      ]
    },
    {
      "cell_type": "code",
      "source": [
        "#This code will print the summary statistics of the dataframe named df_raw_change which contains the raw change between 2020 and 2019\n",
        "print('Summary Statistics')\n",
        "print(df_raw_change.describe())\n",
        "print(\"1. There are 50 states included in the dataset.\\n2. The average crime rate is approximately 20 points lower than the original rate.\\n3. The standard deviation of 44.75 suggests that the state(s) variation in crime rates is significant.\\n4. The range of difference in crime rates is between -207.7 and 54.5.\")"
      ],
      "metadata": {
        "colab": {
          "base_uri": "https://localhost:8080/"
        },
        "id": "TJXQ7hBd8N72",
        "outputId": "14751769-0a4c-406a-b494-e6bf56853528"
      },
      "execution_count": null,
      "outputs": [
        {
          "output_type": "stream",
          "name": "stdout",
          "text": [
            "Summary Statistics\n",
            "count     50.000000\n",
            "mean      20.454000\n",
            "std       44.755359\n",
            "min      -54.500000\n",
            "25%       -6.375000\n",
            "50%       17.550000\n",
            "75%       38.475000\n",
            "max      207.700000\n",
            "dtype: float64\n",
            "1. There are 50 states included in the dataset.\n",
            "2. The average crime rate is approximately 20 points lower than the original rate.\n",
            "3. The standard deviation of 44.75 suggests that the state(s) variation in crime rates is significant.\n",
            "4. The range of difference in crime rates is between -207.7 and 54.5.\n"
          ]
        }
      ]
    },
    {
      "cell_type": "markdown",
      "source": [
        "# Q8. Make a nice boxplot or histogram for the output from Q7."
      ],
      "metadata": {
        "id": "HZYW9VkrqvNT"
      }
    },
    {
      "cell_type": "markdown",
      "source": [
        "Add nice labels and titles and a fun color for your boxplot."
      ],
      "metadata": {
        "id": "GKf30--orPyP"
      }
    },
    {
      "cell_type": "code",
      "source": [
        "fig = plt.figure(figsize =(10, 7)) #Creates a figure with a width of 10 and a height of 7\n",
        "plt.hist(df_raw_change) #Creates a histogram of the values in df_raw_change\n",
        "plt.title('Distribution of Changes in Violent Crime(original units)') #Adds a title to the figure\n",
        "plt.xlabel('Change in Violent Crimes per 100k people') #Adds a label to the x-axis\n",
        "plt.ylabel('Frequency') #Adds a label to the y-axis\n",
        "plt.show() #Displays the figure\n",
        "\n"
      ],
      "metadata": {
        "id": "1lgiOxXfrS-B",
        "colab": {
          "base_uri": "https://localhost:8080/",
          "height": 458
        },
        "outputId": "ef0a74f6-2fdb-41bf-c36e-00bb312e9f09"
      },
      "execution_count": null,
      "outputs": [
        {
          "output_type": "display_data",
          "data": {
            "text/plain": [
              "<Figure size 720x504 with 1 Axes>"
            ],
            "image/png": "[encoded data removed]"
          },
          "metadata": {
            "needs_background": "light"
          }
        }
      ]
    },
    {
      "cell_type": "markdown",
      "source": [
        "# Q9. Compute the percentage change between 2020 and 2019 for all States and print summary statistics"
      ],
      "metadata": {
        "id": "IOEspM27z9vD"
      }
    },
    {
      "cell_type": "markdown",
      "source": [
        "This one should be a percentage, of course! Don't forget to multiply by 100. The denominator should be 2019."
      ],
      "metadata": {
        "id": "fVKKE4yRqnIx"
      }
    },
    {
      "cell_type": "code",
      "source": [
        "# This code calculates the percentage change of crime rate between 2020 and 2019.\n",
        "#It first subtracts the 2019 crime rate from the 2020 crime rate and then divides the result by 2020 crime rate.\n",
        "#Finally, it multiplies the result by 100 to get the percentage change.\n",
        "#The result is stored in the df_percent_change variable and is printed out.\n",
        "\n",
        "df_percent_change = (df1['2020_Violent Crime Rate']-df1['2019_Violent Crime Rate'])/df1['2020_Violent Crime Rate']\n",
        "df_percent_change = df_percent_change * 100\n",
        "print('The percentage change  of crime rate between 2020 & 2019:')\n",
        "print(df_percent_change)\n",
        "\n"
      ],
      "metadata": {
        "id": "9QEwoWVlwDxD",
        "colab": {
          "base_uri": "https://localhost:8080/"
        },
        "outputId": "380a27fa-a65c-4634-a4f0-7bdac384c2f8"
      },
      "execution_count": null,
      "outputs": [
        {
          "output_type": "stream",
          "name": "stdout",
          "text": [
            "The percentage change  of crime rate between 2020 & 2019:\n",
            "2     -3.246598\n",
            "3     -5.871772\n",
            "4     10.970715\n",
            "5     13.558565\n",
            "6     31.719609\n",
            "7     12.464811\n",
            "8      7.941773\n",
            "9      3.881666\n",
            "10    20.801755\n",
            "11     8.242678\n",
            "12    11.047254\n",
            "13    -7.777536\n",
            "14     4.862625\n",
            "15   -11.265432\n",
            "16     5.531915\n",
            "17    -0.022624\n",
            "18     2.130123\n",
            "19     2.488847\n",
            "20     4.588235\n",
            "21     9.099504\n",
            "22     9.682805\n",
            "23    18.470382\n",
            "24   -13.628407\n",
            "25    21.437741\n",
            "26     1.407716\n",
            "27     0.769654\n",
            "28    -3.857982\n",
            "29    10.396179\n",
            "30     8.829692\n",
            "31     8.389058\n",
            "32     8.132344\n",
            "33     4.145078\n",
            "34    -6.444301\n",
            "35     5.238880\n",
            "36    -3.268641\n",
            "37    -0.616650\n",
            "38    10.302198\n",
            "39    14.414414\n",
            "40     9.129267\n",
            "41    14.820533\n",
            "42    -4.051928\n",
            "43     4.122012\n",
            "44     8.198121\n",
            "45     3.509532\n",
            "46    -0.673077\n",
            "47    -5.783009\n",
            "48    -1.651982\n",
            "49   -19.492503\n",
            "51    -7.991803\n",
            "52    -6.906077\n",
            "dtype: float64\n"
          ]
        }
      ]
    },
    {
      "cell_type": "code",
      "source": [
        "\n",
        "# This code prints the phrase \"Summary statistics\" followed by the description of the dataframe df_percent_change.\n",
        "print('Summary statistics')\n",
        "print(df_percent_change.describe())\n"
      ],
      "metadata": {
        "colab": {
          "base_uri": "https://localhost:8080/"
        },
        "id": "q1iCB7wmP28M",
        "outputId": "b1b86b3e-aab7-447e-d8e6-c1a885c57e9e"
      },
      "execution_count": null,
      "outputs": [
        {
          "output_type": "stream",
          "name": "stdout",
          "text": [
            "Summary statistics\n",
            "count    50.000000\n",
            "mean      4.163507\n",
            "std       9.558074\n",
            "min     -19.492503\n",
            "25%      -2.847944\n",
            "50%       4.366657\n",
            "75%       9.544420\n",
            "max      31.719609\n",
            "dtype: float64\n"
          ]
        }
      ]
    },
    {
      "cell_type": "markdown",
      "source": [
        "# Q10. Make a nice boxplot or histogram for the output from Q9."
      ],
      "metadata": {
        "id": "T5QnKyzXq3QW"
      }
    },
    {
      "cell_type": "code",
      "source": [
        "fig = plt.figure(figsize =(10, 7)) #Creates a figure with a width of 10 and a height of 7\n",
        "plt.hist(df_percent_change, color='red') #Creates a histogram of the values in df_percent_change\n",
        "plt.title('Distribution of changes in Violent Crime (perc change)') #Adds a title to the figure\n",
        "plt.xlabel('%Change in violent Crimes per 100k people') #Adds a label to the x-axis\n",
        "plt.ylabel('Freuency') #Adds a label to the y-axis\n",
        "plt.show() #Displays the figure"
      ],
      "metadata": {
        "id": "811ANxkiq9_E",
        "colab": {
          "base_uri": "https://localhost:8080/",
          "height": 458
        },
        "outputId": "05613a7b-b7b7-41b9-879e-4bbf6fad4fba"
      },
      "execution_count": null,
      "outputs": [
        {
          "output_type": "display_data",
          "data": {
            "text/plain": [
              "<Figure size 720x504 with 1 Axes>"
            ],
            "image/png": "[encoded data removed]"
          },
          "metadata": {
            "needs_background": "light"
          }
        }
      ]
    }
  ]
}